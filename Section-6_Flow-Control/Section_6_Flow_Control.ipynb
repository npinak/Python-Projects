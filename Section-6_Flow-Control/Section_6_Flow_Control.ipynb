{
  "nbformat": 4,
  "nbformat_minor": 0,
  "metadata": {
    "colab": {
      "name": "Section-6_Flow-Control.ipynb",
      "provenance": []
    },
    "kernelspec": {
      "name": "python3",
      "display_name": "Python 3"
    },
    "language_info": {
      "name": "python"
    }
  },
  "cells": [
    {
      "cell_type": "code",
      "metadata": {
        "id": "nRUjgJ38qMuL"
      },
      "source": [
        "# \"elif\" means else if"
      ],
      "execution_count": null,
      "outputs": []
    },
    {
      "cell_type": "code",
      "metadata": {
        "id": "pokZhvkTpuPc",
        "colab": {
          "base_uri": "https://localhost:8080/"
        },
        "outputId": "cfb78875-825c-4fd3-a1c8-1db733a18595"
      },
      "source": [
        "# 1) Exercise - \n",
        "# Create a dot product function\n",
        "# function checks that both products are numpy arrays (hint: isinstance())\n",
        "# function checks for same length of input vectors \n",
        "# returns dot product if pass, otherwise useful error message. \n",
        "\n",
        "import numpy as np\n",
        "\n",
        "#Create arrays\n",
        "a= np.array([4,5])\n",
        "b= np.array([2,9])\n",
        "\n",
        "#check for array\n",
        "def array(a,b):\n",
        "  if (isinstance(a,np.ndarray) and isinstance(b,np.ndarray)) == True:\n",
        "    arraycheck = True \n",
        "  else:\n",
        "    arraycheck = False\n",
        "  return arraycheck\n",
        "\n",
        "#check that both lengths are the same\n",
        "def length(a,b):\n",
        "  if len(a) == len(b):\n",
        "    lencheck = True \n",
        "  else:\n",
        "    lencheck = False\n",
        "  return lencheck\n",
        "\n",
        "#Calculate final dotproduct\n",
        "def finalproduct(a,b):\n",
        "  if lencheck and arraycheck == True:\n",
        "    finaldotproduct = ('The dot product is ' + str(np.dot(a,b)))\n",
        "    print(finaldotproduct)\n",
        "  elif lencheck == True and arraycheck == False:\n",
        "    print(\"They're not arrays!!\")\n",
        "  elif lencheck == False and arraycheck == True:\n",
        "    print(\"They're not the same length!!\")\n",
        "  elif lencheck == False and arraycheck == False:\n",
        "    print(\"They're not arrays and they're not the same length!!\")\n",
        "  \n",
        "\n",
        "arraycheck = array(a,b)\n",
        "print(arraycheck)\n",
        "\n",
        "lencheck = length(a,b)\n",
        "print(lencheck)\n",
        "\n",
        "finalproduct(a,b)\n",
        "\n",
        "#Code works for all 4 possible outcomes "
      ],
      "execution_count": 80,
      "outputs": [
        {
          "output_type": "stream",
          "text": [
            "True\n",
            "True\n",
            "The dot product is 53\n"
          ],
          "name": "stdout"
        }
      ]
    }
  ]
}