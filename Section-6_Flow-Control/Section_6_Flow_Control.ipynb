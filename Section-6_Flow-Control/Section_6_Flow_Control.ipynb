{
  "nbformat": 4,
  "nbformat_minor": 0,
  "metadata": {
    "colab": {
      "name": "Section-6_Flow-Control.ipynb",
      "provenance": []
    },
    "kernelspec": {
      "name": "python3",
      "display_name": "Python 3"
    },
    "language_info": {
      "name": "python"
    }
  },
  "cells": [
    {
      "cell_type": "code",
      "metadata": {
        "id": "nRUjgJ38qMuL"
      },
      "source": [
        "# \"elif\" means else if"
      ],
      "execution_count": null,
      "outputs": []
    },
    {
      "cell_type": "code",
      "metadata": {
        "id": "pokZhvkTpuPc",
        "colab": {
          "base_uri": "https://localhost:8080/"
        },
        "outputId": "cfb78875-825c-4fd3-a1c8-1db733a18595"
      },
      "source": [
        "# 1) Exercise - \n",
        "# Create a dot product function\n",
        "# function checks that both products are numpy arrays (hint: isinstance())\n",
        "# function checks for same length of input vectors \n",
        "# returns dot product if pass, otherwise useful error message. \n",
        "\n",
        "import numpy as np\n",
        "\n",
        "#Create arrays\n",
        "a= np.array([4,5])\n",
        "b= np.array([2,9])\n",
        "\n",
        "#check for array\n",
        "def array(a,b):\n",
        "  if (isinstance(a,np.ndarray) and isinstance(b,np.ndarray)) == True:\n",
        "    arraycheck = True \n",
        "  else:\n",
        "    arraycheck = False\n",
        "  return arraycheck\n",
        "\n",
        "#check that both lengths are the same\n",
        "def length(a,b):\n",
        "  if len(a) == len(b):\n",
        "    lencheck = True \n",
        "  else:\n",
        "    lencheck = False\n",
        "  return lencheck\n",
        "\n",
        "#Calculate final dotproduct\n",
        "def finalproduct(a,b):\n",
        "  if lencheck and arraycheck == True:\n",
        "    finaldotproduct = ('The dot product is ' + str(np.dot(a,b)))\n",
        "    print(finaldotproduct)\n",
        "  elif lencheck == True and arraycheck == False:\n",
        "    print(\"They're not arrays!!\")\n",
        "  elif lencheck == False and arraycheck == True:\n",
        "    print(\"They're not the same length!!\")\n",
        "  elif lencheck == False and arraycheck == False:\n",
        "    print(\"They're not arrays and they're not the same length!!\")\n",
        "  \n",
        "\n",
        "arraycheck = array(a,b)\n",
        "print(arraycheck)\n",
        "\n",
        "lencheck = length(a,b)\n",
        "print(lencheck)\n",
        "\n",
        "finalproduct(a,b)\n",
        "\n",
        "#Code works for all 4 possible outcomes "
      ],
      "execution_count": null,
      "outputs": [
        {
          "output_type": "stream",
          "text": [
            "True\n",
            "True\n",
            "The dot product is 53\n"
          ],
          "name": "stdout"
        }
      ]
    },
    {
      "cell_type": "code",
      "metadata": {
        "id": "fL9cJNyb_trY"
      },
      "source": [
        "# Modulus operator (remainder after division) - %"
      ],
      "execution_count": null,
      "outputs": []
    },
    {
      "cell_type": "code",
      "metadata": {
        "colab": {
          "base_uri": "https://localhost:8080/"
        },
        "id": "kj1FEzZnGe2O",
        "outputId": "29d601e9-4457-44e6-cb77-33f017ceaac1"
      },
      "source": [
        "2) #Exercise - Create a function that reports the Fibonacci series for n+3 numbers \n",
        "\n",
        "# start with 0, 1, 1 each successive number is the sum of the last two numbers \n",
        "\n",
        "\n",
        "#Create initial variables\n",
        "x = int(input(\"How long do you want the Fibonacci Series to be + 3? \"))\n",
        "\n",
        "\n",
        "def fib(x):\n",
        "  seed = [0,1,1]\n",
        "  for i in range(x):\n",
        "     seed.append(sum(seed[-2:]))\n",
        "  return seed\n",
        "\n",
        "fib(x)\n",
        "\n"
      ],
      "execution_count": null,
      "outputs": [
        {
          "output_type": "stream",
          "text": [
            "How long do you want the Fibonacci Series to be + 3? 9\n"
          ],
          "name": "stdout"
        },
        {
          "output_type": "execute_result",
          "data": {
            "text/plain": [
              "[0, 1, 1, 2, 3, 5, 8, 13, 21, 34, 55, 89]"
            ]
          },
          "metadata": {
            "tags": []
          },
          "execution_count": 8
        }
      ]
    },
    {
      "cell_type": "code",
      "metadata": {
        "id": "Hnhkqf7ac3nR"
      },
      "source": [
        "#For-loop: Use for-loop when you know how many iterations you need\n",
        "#While-loop: Use while-loop when you don't know how many iterations you need\n"
      ],
      "execution_count": null,
      "outputs": []
    },
    {
      "cell_type": "code",
      "metadata": {
        "id": "LtH5VS0PdEFU",
        "colab": {
          "base_uri": "https://localhost:8080/"
        },
        "outputId": "b17facfe-94ac-4c5c-f11d-4b322a50f44e"
      },
      "source": [
        "# 3) Exercise - Make a Poisson-like counter. \n",
        "\n",
        "# parameter lambda. Some positive number (10)\n",
        "# start another number at 1 and multiply that number by random uniform distribution ([0,1])\n",
        "# keep doing this until target number is smaller than e^(-lambda)\n",
        "# the actual counter is counting the number of times it took you to get to e^(-lambda)\n",
        "\n",
        "import numpy as np \n",
        "import math \n",
        "\n",
        "# Initialize variables\n",
        "parameter = 10\n",
        "currentvalue = 1\n",
        "count = 0\n",
        "\n",
        "# Create loop\n",
        "while currentvalue > math.exp(-parameter):\n",
        "  count += 1\n",
        "  currentvalue = currentvalue * np.random.uniform(low = 0.0, high = 1.0) \n",
        "  print(count)\n",
        "\n",
        "print(\"There were \" + str(count) + \" iterations.\" )\n"
      ],
      "execution_count": null,
      "outputs": [
        {
          "output_type": "stream",
          "text": [
            "1\n",
            "2\n",
            "3\n",
            "4\n",
            "5\n",
            "6\n",
            "7\n",
            "8\n",
            "9\n",
            "10\n",
            "11\n",
            "12\n",
            "13\n",
            "14\n",
            "There were 14 iterations.\n"
          ],
          "name": "stdout"
        }
      ]
    },
    {
      "cell_type": "code",
      "metadata": {
        "id": "0ygQSmGR21eq"
      },
      "source": [
        "# Continue lets you skip an iteration in a loop"
      ],
      "execution_count": null,
      "outputs": []
    },
    {
      "cell_type": "code",
      "metadata": {
        "colab": {
          "base_uri": "https://localhost:8080/"
        },
        "id": "QoojCgMP1_Xs",
        "outputId": "76ddd86b-6564-4430-f8c7-fe6d3d5f763a"
      },
      "source": [
        "# 4) Exercise - Write code to exclude all vowels in the following text: \"HeLLO my name is MikE\"\n",
        "\n",
        "text = \"HeLLO my name is MikE\"\n",
        "\n",
        "for i in text:\n",
        "  if i in 'AEIOUaeiou': #can also use i.lower()\n",
        "    continue\n",
        "  print(i)"
      ],
      "execution_count": null,
      "outputs": [
        {
          "output_type": "stream",
          "text": [
            "H\n",
            "L\n",
            "L\n",
            " \n",
            "m\n",
            "y\n",
            " \n",
            "n\n",
            "m\n",
            " \n",
            "s\n",
            " \n",
            "M\n",
            "k\n"
          ],
          "name": "stdout"
        }
      ]
    },
    {
      "cell_type": "code",
      "metadata": {
        "id": "-9H3JYcB_NhC",
        "colab": {
          "base_uri": "https://localhost:8080/"
        },
        "outputId": "d8b7b770-421e-48d6-846f-d4320d0eb61c"
      },
      "source": [
        "# 5) Exercise - Time all methods!\n",
        "# 1) List append\n",
        "# 2) numpy append\n",
        "# 3) numpy initialization \n",
        "\n",
        "# Initialize when using numpy because its faster and helps you conceptualize what you want to write.\n",
        "\n",
        "\n",
        "import numpy as np\n",
        "import time\n",
        "\n",
        "# Start of Numpy Array (append) Code\n",
        "\n",
        "StartTimeArray = time.time()\n",
        "\n",
        "r = np.array([])\n",
        "for i in range (10000):\n",
        "  r=np.append(r,i**2)\n",
        "\n",
        "EndTimeArray = time.time()\n",
        "\n",
        "ArrayTime=  EndTimeArray - StartTimeArray\n",
        "\n",
        "print('For arrays it takes ' + str(ArrayTime) + ' seconds')\n",
        "\n",
        "\n",
        "# End of Numpy Array Code\n",
        "######################################\n",
        "# Start of List Code\n",
        "\n",
        "StartListTime = time.time()\n",
        "lists=[]\n",
        "\n",
        "for i in range (10000):\n",
        "  lists.append(i**2)\n",
        "\n",
        "EndListTime = time.time()\n",
        "\n",
        "ListTime = EndListTime - StartListTime\n",
        "\n",
        "print('For lists it takes ' + str(ListTime) + ' seconds')\n",
        "\n",
        "# End of List Code\n",
        "######################################\n",
        "# Start of initialization code\n",
        "\n",
        "InitializationStartTime = time.time()\n",
        "\n",
        "n=10000\n",
        "\n",
        "initialization = np.zeros(n)\n",
        "\n",
        "for i in range(n):\n",
        "  r[i] = i**2\n",
        "\n",
        "InitializationEndTime = time.time()\n",
        "\n",
        "InitializationTime = InitializationEndTime - InitializationStartTime\n",
        "\n",
        "print('For initialization it takes ' + str(InitializationTime) + ' seconds')\n",
        "\n",
        "# End of initialization code\n",
        "\n",
        "print('It looks like arrays are the slowest.')"
      ],
      "execution_count": null,
      "outputs": [
        {
          "output_type": "stream",
          "text": [
            "For arrays it takes 0.08003044128417969 seconds\n",
            "For lists it takes 0.0038144588470458984 seconds\n",
            "For initialization it takes 0.004254817962646484 seconds\n",
            "It looks like arrays are the slowest\n"
          ],
          "name": "stdout"
        }
      ]
    },
    {
      "cell_type": "code",
      "metadata": {
        "id": "NVheanlP5tBP",
        "colab": {
          "base_uri": "https://localhost:8080/",
          "height": 317
        },
        "outputId": "21c521f0-3ad0-4dda-aa87-002212be0f01"
      },
      "source": [
        "# 6) Exercise - Make the following code work so that when x is inputted as a string, the code still works \n",
        "\n",
        "def funfun(x,y):\n",
        "  #check that inputs are numeric\n",
        "  if not isinstance(x,(int,float)):\n",
        "    raise Exception('Input x must be a number!')\n",
        "  \n",
        "  z = x*y\n",
        "  return z\n",
        "\n",
        "funfun('2',3)\n"
      ],
      "execution_count": 52,
      "outputs": [
        {
          "output_type": "error",
          "ename": "Exception",
          "evalue": "ignored",
          "traceback": [
            "\u001b[0;31m---------------------------------------------------------------------------\u001b[0m",
            "\u001b[0;31mException\u001b[0m                                 Traceback (most recent call last)",
            "\u001b[0;32m<ipython-input-52-f7dd8a9bc275>\u001b[0m in \u001b[0;36m<module>\u001b[0;34m()\u001b[0m\n\u001b[1;32m      9\u001b[0m   \u001b[0;32mreturn\u001b[0m \u001b[0mz\u001b[0m\u001b[0;34m\u001b[0m\u001b[0;34m\u001b[0m\u001b[0m\n\u001b[1;32m     10\u001b[0m \u001b[0;34m\u001b[0m\u001b[0m\n\u001b[0;32m---> 11\u001b[0;31m \u001b[0mfunfun\u001b[0m\u001b[0;34m(\u001b[0m\u001b[0;34m'2'\u001b[0m\u001b[0;34m,\u001b[0m\u001b[0;36m3\u001b[0m\u001b[0;34m)\u001b[0m\u001b[0;34m\u001b[0m\u001b[0;34m\u001b[0m\u001b[0m\n\u001b[0m",
            "\u001b[0;32m<ipython-input-52-f7dd8a9bc275>\u001b[0m in \u001b[0;36mfunfun\u001b[0;34m(x, y)\u001b[0m\n\u001b[1;32m      4\u001b[0m   \u001b[0;31m#check that inputs are numeric\u001b[0m\u001b[0;34m\u001b[0m\u001b[0;34m\u001b[0m\u001b[0;34m\u001b[0m\u001b[0m\n\u001b[1;32m      5\u001b[0m   \u001b[0;32mif\u001b[0m \u001b[0;32mnot\u001b[0m \u001b[0misinstance\u001b[0m\u001b[0;34m(\u001b[0m\u001b[0mx\u001b[0m\u001b[0;34m,\u001b[0m\u001b[0;34m(\u001b[0m\u001b[0mint\u001b[0m\u001b[0;34m,\u001b[0m\u001b[0mfloat\u001b[0m\u001b[0;34m)\u001b[0m\u001b[0;34m)\u001b[0m\u001b[0;34m:\u001b[0m\u001b[0;34m\u001b[0m\u001b[0;34m\u001b[0m\u001b[0m\n\u001b[0;32m----> 6\u001b[0;31m     \u001b[0;32mraise\u001b[0m \u001b[0mException\u001b[0m\u001b[0;34m(\u001b[0m\u001b[0;34m'Input x must be a number!'\u001b[0m\u001b[0;34m)\u001b[0m\u001b[0;34m\u001b[0m\u001b[0;34m\u001b[0m\u001b[0m\n\u001b[0m\u001b[1;32m      7\u001b[0m \u001b[0;34m\u001b[0m\u001b[0m\n\u001b[1;32m      8\u001b[0m   \u001b[0mz\u001b[0m \u001b[0;34m=\u001b[0m \u001b[0mx\u001b[0m\u001b[0;34m*\u001b[0m\u001b[0my\u001b[0m\u001b[0;34m\u001b[0m\u001b[0;34m\u001b[0m\u001b[0m\n",
            "\u001b[0;31mException\u001b[0m: Input x must be a number!"
          ]
        }
      ]
    },
    {
      "cell_type": "code",
      "metadata": {
        "colab": {
          "base_uri": "https://localhost:8080/"
        },
        "id": "k3dk4JPURaz8",
        "outputId": "4b94a958-eed3-4f0c-e0ed-8b5d8d260d84"
      },
      "source": [
        "def funfun(x,y):\n",
        "  #check that inputs are numeric\n",
        "  number = x.isnumeric()\n",
        "\n",
        "\n",
        "  if number == False:\n",
        "    raise Exception ('Input x must be a number!')\n",
        "  else: \n",
        "    x = float(x)\n",
        "    print('Note: x has been converted to Float.')\n",
        "  \n",
        "    z = x*y\n",
        "    return z\n",
        "\n",
        "funfun('9',3)\n"
      ],
      "execution_count": 81,
      "outputs": [
        {
          "output_type": "stream",
          "text": [
            "Note: x has been converted to Float.\n"
          ],
          "name": "stdout"
        },
        {
          "output_type": "execute_result",
          "data": {
            "text/plain": [
              "27.0"
            ]
          },
          "metadata": {
            "tags": []
          },
          "execution_count": 81
        }
      ]
    },
    {
      "cell_type": "code",
      "metadata": {
        "colab": {
          "base_uri": "https://localhost:8080/"
        },
        "id": "oQFUsxWdpv2U",
        "outputId": "0fc0662e-0737-498b-e744-caa7b36cb3a0"
      },
      "source": [
        "# 7) Exercise - Create a dictionary given two lists and a zip function. \n",
        "\n",
        "names = ['alpha', 'beta', 'gamma']\n",
        "values = [10,20,30]\n",
        "\n",
        "dictionary = dict(zip(names,values))\n",
        "\n",
        "dictionary"
      ],
      "execution_count": 22,
      "outputs": [
        {
          "output_type": "execute_result",
          "data": {
            "text/plain": [
              "{'alpha': 10, 'beta': 20, 'gamma': 30}"
            ]
          },
          "metadata": {
            "tags": []
          },
          "execution_count": 22
        }
      ]
    },
    {
      "cell_type": "code",
      "metadata": {
        "colab": {
          "base_uri": "https://localhost:8080/"
        },
        "id": "uWpUawMRx4mU",
        "outputId": "7b0e683b-ba5c-4ba0-fec3-ff125983e435"
      },
      "source": [
        "# 8) Exercise \n",
        "#for word in text:\n",
        " # print(word[0]) -- Make this into a single line loop\n",
        "\n",
        "text = ['Promising','Yves','that','home','on','Nobb']\n",
        "\n",
        "\n",
        "\n",
        "[print(word[0]) for word in text];"
      ],
      "execution_count": 4,
      "outputs": [
        {
          "output_type": "stream",
          "text": [
            "P\n",
            "Y\n",
            "t\n",
            "h\n",
            "o\n",
            "N\n"
          ],
          "name": "stdout"
        }
      ]
    },
    {
      "cell_type": "code",
      "metadata": {
        "colab": {
          "base_uri": "https://localhost:8080/"
        },
        "id": "ucEQO7GYy3r2",
        "outputId": "07d49afc-8287-48f2-a6ee-893514a7146b"
      },
      "source": [
        "# 9) Make the following text a single line loop as well. \n",
        "\n",
        "newlist = ['']*10\n",
        "\n",
        "for i in range(10):\n",
        "  if i%2==1:\n",
        "    newlist[i] = 'Odd'\n",
        "  else:\n",
        "    newlist[i] = i\n",
        "\n",
        "newlist\n",
        "\n",
        "\n",
        "newlist = ['Odd' if i%2==1 else i for i in range(10)]\n",
        "\n",
        "print(newlist)"
      ],
      "execution_count": 23,
      "outputs": [
        {
          "output_type": "stream",
          "text": [
            "[0, 'Odd', 2, 'Odd', 4, 'Odd', 6, 'Odd', 8, 'Odd']\n"
          ],
          "name": "stdout"
        }
      ]
    }
  ]
}