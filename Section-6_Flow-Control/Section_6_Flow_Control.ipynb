{
  "nbformat": 4,
  "nbformat_minor": 0,
  "metadata": {
    "colab": {
      "name": "Section-6_Flow-Control.ipynb",
      "provenance": []
    },
    "kernelspec": {
      "name": "python3",
      "display_name": "Python 3"
    },
    "language_info": {
      "name": "python"
    }
  },
  "cells": [
    {
      "cell_type": "code",
      "metadata": {
        "id": "nRUjgJ38qMuL"
      },
      "source": [
        "# \"elif\" means else if"
      ],
      "execution_count": null,
      "outputs": []
    },
    {
      "cell_type": "code",
      "metadata": {
        "id": "pokZhvkTpuPc",
        "colab": {
          "base_uri": "https://localhost:8080/"
        },
        "outputId": "cfb78875-825c-4fd3-a1c8-1db733a18595"
      },
      "source": [
        "# 1) Exercise - \n",
        "# Create a dot product function\n",
        "# function checks that both products are numpy arrays (hint: isinstance())\n",
        "# function checks for same length of input vectors \n",
        "# returns dot product if pass, otherwise useful error message. \n",
        "\n",
        "import numpy as np\n",
        "\n",
        "#Create arrays\n",
        "a= np.array([4,5])\n",
        "b= np.array([2,9])\n",
        "\n",
        "#check for array\n",
        "def array(a,b):\n",
        "  if (isinstance(a,np.ndarray) and isinstance(b,np.ndarray)) == True:\n",
        "    arraycheck = True \n",
        "  else:\n",
        "    arraycheck = False\n",
        "  return arraycheck\n",
        "\n",
        "#check that both lengths are the same\n",
        "def length(a,b):\n",
        "  if len(a) == len(b):\n",
        "    lencheck = True \n",
        "  else:\n",
        "    lencheck = False\n",
        "  return lencheck\n",
        "\n",
        "#Calculate final dotproduct\n",
        "def finalproduct(a,b):\n",
        "  if lencheck and arraycheck == True:\n",
        "    finaldotproduct = ('The dot product is ' + str(np.dot(a,b)))\n",
        "    print(finaldotproduct)\n",
        "  elif lencheck == True and arraycheck == False:\n",
        "    print(\"They're not arrays!!\")\n",
        "  elif lencheck == False and arraycheck == True:\n",
        "    print(\"They're not the same length!!\")\n",
        "  elif lencheck == False and arraycheck == False:\n",
        "    print(\"They're not arrays and they're not the same length!!\")\n",
        "  \n",
        "\n",
        "arraycheck = array(a,b)\n",
        "print(arraycheck)\n",
        "\n",
        "lencheck = length(a,b)\n",
        "print(lencheck)\n",
        "\n",
        "finalproduct(a,b)\n",
        "\n",
        "#Code works for all 4 possible outcomes "
      ],
      "execution_count": null,
      "outputs": [
        {
          "output_type": "stream",
          "text": [
            "True\n",
            "True\n",
            "The dot product is 53\n"
          ],
          "name": "stdout"
        }
      ]
    },
    {
      "cell_type": "code",
      "metadata": {
        "id": "fL9cJNyb_trY"
      },
      "source": [
        "# Modulus operator (remainder after division) - %"
      ],
      "execution_count": null,
      "outputs": []
    },
    {
      "cell_type": "code",
      "metadata": {
        "colab": {
          "base_uri": "https://localhost:8080/"
        },
        "id": "kj1FEzZnGe2O",
        "outputId": "29d601e9-4457-44e6-cb77-33f017ceaac1"
      },
      "source": [
        "2) #Exercise - Create a function that reports the Fibonacci series for n+3 numbers \n",
        "\n",
        "# start with 0, 1, 1 each successive number is the sum of the last two numbers \n",
        "\n",
        "\n",
        "#Create initial variables\n",
        "x = int(input(\"How long do you want the Fibonacci Series to be + 3? \"))\n",
        "\n",
        "\n",
        "def fib(x):\n",
        "  seed = [0,1,1]\n",
        "  for i in range(x):\n",
        "     seed.append(sum(seed[-2:]))\n",
        "  return seed\n",
        "\n",
        "fib(x)\n",
        "\n"
      ],
      "execution_count": null,
      "outputs": [
        {
          "output_type": "stream",
          "text": [
            "How long do you want the Fibonacci Series to be + 3? 9\n"
          ],
          "name": "stdout"
        },
        {
          "output_type": "execute_result",
          "data": {
            "text/plain": [
              "[0, 1, 1, 2, 3, 5, 8, 13, 21, 34, 55, 89]"
            ]
          },
          "metadata": {
            "tags": []
          },
          "execution_count": 8
        }
      ]
    },
    {
      "cell_type": "code",
      "metadata": {
        "id": "Hnhkqf7ac3nR"
      },
      "source": [
        "#For-loop: Use for-loop when you know how many iterations you need\n",
        "#While-loop: Use while-loop when you don't know how many iterations you need\n"
      ],
      "execution_count": null,
      "outputs": []
    },
    {
      "cell_type": "code",
      "metadata": {
        "id": "LtH5VS0PdEFU",
        "colab": {
          "base_uri": "https://localhost:8080/"
        },
        "outputId": "b17facfe-94ac-4c5c-f11d-4b322a50f44e"
      },
      "source": [
        "# 3) Exercise - Make a Poisson-like counter. \n",
        "\n",
        "# parameter lambda. Some positive number (10)\n",
        "# start another number at 1 and multiply that number by random uniform distribution ([0,1])\n",
        "# keep doing this until target number is smaller than e^(-lambda)\n",
        "# the actual counter is counting the number of times it took you to get to e^(-lambda)\n",
        "\n",
        "import numpy as np \n",
        "import math \n",
        "\n",
        "# Initialize variables\n",
        "parameter = 10\n",
        "currentvalue = 1\n",
        "count = 0\n",
        "\n",
        "# Create loop\n",
        "while currentvalue > math.exp(-parameter):\n",
        "  count += 1\n",
        "  currentvalue = currentvalue * np.random.uniform(low = 0.0, high = 1.0) \n",
        "  print(count)\n",
        "\n",
        "print(\"There were \" + str(count) + \" iterations.\" )\n"
      ],
      "execution_count": 33,
      "outputs": [
        {
          "output_type": "stream",
          "text": [
            "1\n",
            "2\n",
            "3\n",
            "4\n",
            "5\n",
            "6\n",
            "7\n",
            "8\n",
            "9\n",
            "10\n",
            "11\n",
            "12\n",
            "13\n",
            "14\n",
            "There were 14 iterations.\n"
          ],
          "name": "stdout"
        }
      ]
    },
    {
      "cell_type": "code",
      "metadata": {
        "id": "0ygQSmGR21eq"
      },
      "source": [
        ""
      ],
      "execution_count": null,
      "outputs": []
    },
    {
      "cell_type": "code",
      "metadata": {
        "id": "QoojCgMP1_Xs"
      },
      "source": [
        ""
      ],
      "execution_count": null,
      "outputs": []
    }
  ]
}