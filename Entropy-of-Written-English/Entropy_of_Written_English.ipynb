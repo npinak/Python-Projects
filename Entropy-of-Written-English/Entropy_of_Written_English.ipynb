{
  "nbformat": 4,
  "nbformat_minor": 0,
  "metadata": {
    "colab": {
      "name": "Entropy-of-Written-English.ipynb",
      "provenance": [],
      "collapsed_sections": []
    },
    "kernelspec": {
      "name": "python3",
      "display_name": "Python 3"
    },
    "language_info": {
      "name": "python"
    }
  },
  "cells": [
    {
      "cell_type": "code",
      "metadata": {
        "id": "Jh9wCTVlmbHi"
      },
      "source": [
        " #### Entropy of The Time Machine #### - Project inspired by Mike Cohen — https://www.mikexcohen.com"
      ],
      "execution_count": null,
      "outputs": []
    },
    {
      "cell_type": "code",
      "metadata": {
        "colab": {
          "base_uri": "https://localhost:8080/",
          "height": 157
        },
        "id": "E_3IqreTpx-A",
        "outputId": "19267304-156e-4385-94ac-360b42524d55"
      },
      "source": [
        "import numpy as np\n",
        "import matplotlib.pyplot as plt\n",
        "import requests\n",
        "import re\n",
        "import string\n",
        "import pandas as pd\n",
        "\n",
        "# Importing the text\n",
        "book = requests.get('https://www.gutenberg.org/files/35/35-0.txt')\n",
        "\n",
        "text = book.text\n",
        "\n",
        "text[:1000]"
      ],
      "execution_count": null,
      "outputs": [
        {
          "output_type": "execute_result",
          "data": {
            "application/vnd.google.colaboratory.intrinsic+json": {
              "type": "string"
            },
            "text/plain": [
              "'ï»¿The Project Gutenberg eBook of The Time Machine, by H. G. Wells\\r\\n\\r\\nThis eBook is for the use of anyone anywhere in the United States and\\r\\nmost other parts of the world at no cost and with almost no restrictions\\r\\nwhatsoever. You may copy it, give it away or re-use it under the terms\\r\\nof the Project Gutenberg License included with this eBook or online at\\r\\nwww.gutenberg.org. If you are not located in the United States, you\\r\\nwill have to check the laws of the country where you are located before\\r\\nusing this eBook.\\r\\n\\r\\nTitle: The Time Machine\\r\\n\\r\\nAuthor: H. G. Wells\\r\\n\\r\\nRelease Date: July, 1992 [eBook #35]\\r\\n[Most recently updated: October 22, 2020]\\r\\n\\r\\nLanguage: English\\r\\n\\r\\nCharacter set encoding: UTF-8\\r\\n\\r\\n\\r\\n*** START OF THE PROJECT GUTENBERG EBOOK THE TIME MACHINE ***\\r\\n\\r\\n\\r\\n\\r\\n\\r\\nThe Time Machine\\r\\n\\r\\nAn Invention\\r\\n\\r\\nby H. G. Wells\\r\\n\\r\\n\\r\\nCONTENTS\\r\\n\\r\\n I Introduction\\r\\n II The Machine\\r\\n III The Time Traveller Returns\\r\\n IV Time Travelling\\r\\n V In the Golden Age\\r\\n VI The Sunset of Mankind\\r\\n VII A Sudden'"
            ]
          },
          "metadata": {
            "tags": []
          },
          "execution_count": 3
        }
      ]
    },
    {
      "cell_type": "code",
      "metadata": {
        "id": "39k0UpqVrn1f"
      },
      "source": [
        "# Clean up text\n",
        "\n",
        "strings2replace = [\n",
        "                 '\\r\\n\\r\\nâ\\x80\\x9c', # new paragraph\n",
        "                 'â\\x80\\x9c',         # open quote\n",
        "                 'â\\x80\\x9d',         # close quote\n",
        "                 '\\r\\n',              # new line\n",
        "                 'â\\x80\\x94',         # hyphen\n",
        "                 'â\\x80\\x99',         # single apostrophe\n",
        "                 'â\\x80\\x98',         # single quote\n",
        "                 '_',                 # underscore, used for stressing\n",
        "                 ]\n"
      ],
      "execution_count": null,
      "outputs": []
    },
    {
      "cell_type": "code",
      "metadata": {
        "colab": {
          "base_uri": "https://localhost:8080/",
          "height": 157
        },
        "id": "31B15z8Rrrqi",
        "outputId": "830a61e2-e562-4b97-f003-f8c86a69c8a6"
      },
      "source": [
        "for i in strings2replace:\n",
        "  regexp = re.compile(r'%s'%i)\n",
        "  text = regexp.sub(' ',text)\n",
        "\n",
        "text[:10002]"
      ],
      "execution_count": null,
      "outputs": [
        {
          "output_type": "execute_result",
          "data": {
            "application/vnd.google.colaboratory.intrinsic+json": {
              "type": "string"
            },
            "text/plain": [
              "'ï»¿The Project Gutenberg eBook of The Time Machine, by H. G. Wells  This eBook is for the use of anyone anywhere in the United States and most other parts of the world at no cost and with almost no restrictions whatsoever. You may copy it, give it away or re-use it under the terms of the Project Gutenberg License included with this eBook or online at www.gutenberg.org. If you are not located in the United States, you will have to check the laws of the country where you are located before using this eBook.  Title: The Time Machine  Author: H. G. Wells  Release Date: July, 1992 [eBook #35] [Most recently updated: October 22, 2020]  Language: English  Character set encoding: UTF-8   *** START OF THE PROJECT GUTENBERG EBOOK THE TIME MACHINE ***     The Time Machine  An Invention  by H. G. Wells   CONTENTS   I Introduction  II The Machine  III The Time Traveller Returns  IV Time Travelling  V In the Golden Age  VI The Sunset of Mankind  VII A Sudden Shock  VIII Explanation  IX The Morlocks  X When Night Came  XI The Palace of Green Porcelain  XII In the Darkness  XIII The Trap of the White Sphinx  XIV The Further Vision  XV The Time Traveller s Return  XVI After the Story  Epilogue      I.  Introduction   The Time Traveller (for so it will be convenient to speak of him) was expounding a recondite matter to us. His pale grey eyes shone and twinkled, and his usually pale face was flushed and animated. The fire burnt brightly, and the soft radiance of the incandescent lights in the lilies of silver caught the bubbles that flashed and passed in our glasses. Our chairs, being his patents, embraced and caressed us rather than submitted to be sat upon, and there was that luxurious after-dinner atmosphere, when thought runs gracefully free of the trammels of precision. And he put it to us in this way marking the points with a lean forefinger as we sat and lazily admired his earnestness over this new paradox (as we thought it) and his fecundity. You must follow me carefully. I shall have to controvert one or two ideas that are almost universally accepted. The geometry, for instance, they taught you at school is founded on a misconception.  Is not that rather a large thing to expect us to begin upon?  said Filby, an argumentative person with red hair. I do not mean to ask you to accept anything without reasonable ground for it. You will soon admit as much as I need from you. You know of course that a mathematical line, a line of thickness  nil , has no real existence. They taught you that? Neither has a mathematical plane. These things are mere abstractions.  That is all right,  said the Psychologist. Nor, having only length, breadth, and thickness, can a cube have a real existence.  There I object,  said Filby.  Of course a solid body may exist. All real things   So most people think. But wait a moment. Can an  instantaneous  cube exist?  Don t follow you,  said Filby. Can a cube that does not last for any time at all, have a real existence?   Filby became pensive.  Clearly,  the Time Traveller proceeded,  any real body must have extension in  four  directions: it must have Length, Breadth, Thickness, and Duration. But through a natural infirmity of the flesh, which I will explain to you in a moment, we incline to overlook this fact. There are really four dimensions, three which we call the three planes of Space, and a fourth, Time. There is, however, a tendency to draw an unreal distinction between the former three dimensions and the latter, because it happens that our consciousness moves intermittently in one direction along the latter from the beginning to the end of our lives.  That,  said a very young man, making spasmodic efforts to relight his cigar over the lamp;  that . . . very clear indeed.  Now, it is very remarkable that this is so extensively overlooked,  continued the Time Traveller, with a slight accession of cheerfulness.  Really this is what is meant by the Fourth Dimension, though some people who talk about the Fourth Dimension do not know they mean it. It is only another way of looking at Time.  There is no difference between Time and any of the three dimensions of Space except that our consciousness moves along it . But some foolish people have got hold of the wrong side of that idea. You have all heard what they have to say about this Fourth Dimension?   I  have not,  said the Provincial Mayor. It is simply this. That Space, as our mathematicians have it, is spoken of as having three dimensions, which one may call Length, Breadth, and Thickness, and is always definable by reference to three planes, each at right angles to the others. But some philosophical people have been asking why  three  dimensions particularly why not another direction at right angles to the other three? and have even tried to construct a Four-Dimensional geometry. Professor Simon Newcomb was expounding this to the New York Mathematical Society only a month or so ago. You know how on a flat surface, which has only two dimensions, we can represent a figure of a three-dimensional solid, and similarly they think that by models of three dimensions they could represent one of four if they could master the perspective of the thing. See?  I think so,  murmured the Provincial Mayor; and, knitting his brows, he lapsed into an introspective state, his lips moving as one who repeats mystic words.  Yes, I think I see it now,  he said after some time, brightening in a quite transitory manner. Well, I do not mind telling you I have been at work upon this geometry of Four Dimensions for some time. Some of my results are curious. For instance, here is a portrait of a man at eight years old, another at fifteen, another at seventeen, another at twenty-three, and so on. All these are evidently sections, as it were, Three-Dimensional representations of his Four-Dimensioned being, which is a fixed and unalterable thing. Scientific people,  proceeded the Time Traveller, after the pause required for the proper assimilation of this,  know very well that Time is only a kind of Space. Here is a popular scientific diagram, a weather record. This line I trace with my finger shows the movement of the barometer. Yesterday it was so high, yesterday night it fell, then this morning it rose again, and so gently upward to here. Surely the mercury did not trace this line in any of the dimensions of Space generally recognised? But certainly it traced such a line, and that line, therefore, we must conclude, was along the Time-Dimension.  But,  said the Medical Man, staring hard at a coal in the fire,  if Time is really only a fourth dimension of Space, why is it, and why has it always been, regarded as something different? And why cannot we move in Time as we move about in the other dimensions of Space?   The Time Traveller smiled.  Are you so sure we can move freely in Space? Right and left we can go, backward and forward freely enough, and men always have done so. I admit we move freely in two dimensions. But how about up and down? Gravitation limits us there.  Not exactly,  said the Medical Man.  There are balloons.  But before the balloons, save for spasmodic jumping and the inequalities of the surface, man had no freedom of vertical movement.  Still they could move a little up and down,  said the Medical Man. Easier, far easier down than up.  And you cannot move at all in Time, you cannot get away from the present moment.  My dear sir, that is just where you are wrong. That is just where the whole world has gone wrong. We are always getting away from the present moment. Our mental existences, which are immaterial and have no dimensions, are passing along the Time-Dimension with a uniform velocity from the cradle to the grave. Just as we should travel  down  if we began our existence fifty miles above the earth s surface.  But the great difficulty is this,  interrupted the Psychologist.  You  can  move about in all directions of Space, but you cannot move about in Time.  That is the germ of my great discovery. But you are wrong to say that we cannot move about in Time. For instance, if I am recalling an incident very vividly I go back to the instant of its occurrence: I become absent-minded, as you say. I jump back for a moment. Of course we have no means of staying back for any length of Time, any more than a savage or an animal has of staying six feet above the ground. But a civilised man is better off than the savage in this respect. He can go up against gravitation in a balloon, and why should he not hope that ultimately he may be able to stop or accelerate his drift along the Time-Dimension, or even turn about and travel the other way?  Oh,  this ,  began Filby,  is all   Why not?  said the Time Traveller. It s against reason,  said Filby. What reason?  said the Time Traveller. You can show black is white by argument,  said Filby,  but you will never convince me.  Possibly not,  said the Time Traveller.  But now you begin to see the object of my investigations into the geometry of Four Dimensions. Long ago I had a vague inkling of a machine   To travel through Time!  exclaimed the Very Young Man. That shall travel indifferently in any direction of Space and Time, as the driver determines.   Filby contented himself with laughter. But I have experimental verification,  said the Time Traveller. It would be remarkably convenient for the historian,  the Psychologist suggested.  One might travel back and verify the accepted account of the Battle of Hastings, for instance!  Don t you think you would attract attention?  said the Medical Man.  Our ancestors had no great tolerance for anachronisms.  One might get one s Greek from the very lips of Homer and Plato,  the Very Young Man thought. In which case they would certainly plough you for the Little-go. The German scholars have improved Greek so much.  Then there is the future,  said the Very Young Man.  Just think! One might invest all one s money, leave it to accumulate at interest, and hurry on ahead!  To discover'"
            ]
          },
          "metadata": {
            "tags": []
          },
          "execution_count": 5
        }
      ]
    },
    {
      "cell_type": "code",
      "metadata": {
        "colab": {
          "base_uri": "https://localhost:8080/"
        },
        "id": "qMQ9_2S4WjlG",
        "outputId": "5d29c263-865f-4763-b437-de7984530f6d"
      },
      "source": [
        "# Finding the distribution of word lengths\n",
        "\n",
        "# Converting the string to individual words\n",
        "\n",
        "words = text.split()\n",
        "\n",
        "words[:30]\n",
        "\n",
        "npwords = np.array(words)\n",
        "npwords"
      ],
      "execution_count": null,
      "outputs": [
        {
          "output_type": "execute_result",
          "data": {
            "text/plain": [
              "array(['ï»¿The', 'Project', 'Gutenberg', ..., 'about', 'new', 'eBooks.'],\n",
              "      dtype='<U31')"
            ]
          },
          "metadata": {
            "tags": []
          },
          "execution_count": 6
        }
      ]
    },
    {
      "cell_type": "code",
      "metadata": {
        "id": "SfLFNdtohhnH"
      },
      "source": [
        "# Finding the unique lengths in word list \n",
        "\n",
        "lengths = []\n",
        "for i in words:\n",
        "  lengths.append(len(i))\n"
      ],
      "execution_count": null,
      "outputs": []
    },
    {
      "cell_type": "code",
      "metadata": {
        "colab": {
          "base_uri": "https://localhost:8080/",
          "height": 279
        },
        "id": "Pj2NySsmnvwP",
        "outputId": "91b5e147-1b5f-4d58-f7dd-843a681e9840"
      },
      "source": [
        "plt.hist(lengths,bins=30)\n",
        "plt.xlabel('Word Length')\n",
        "plt.ylabel('Frequency')\n",
        "plt.show()"
      ],
      "execution_count": null,
      "outputs": [
        {
          "output_type": "display_data",
          "data": {
            "image/png": "[encoded data removed]",
            "text/plain": [
              "<Figure size 432x288 with 1 Axes>"
            ]
          },
          "metadata": {
            "tags": [],
            "needs_background": "light"
          }
        }
      ]
    },
    {
      "cell_type": "code",
      "metadata": {
        "colab": {
          "base_uri": "https://localhost:8080/",
          "height": 37
        },
        "id": "eqP8S1737Wcv",
        "outputId": "a39a3e11-3302-419a-b49f-94fcd3805f17"
      },
      "source": [
        "# Removing all the special characters\n",
        "\n",
        "regex = re.compile('[^a-zA-Z]')\n",
        "\n",
        "newtext = regex.sub('', text)\n",
        "\n",
        "newtext[:30]"
      ],
      "execution_count": null,
      "outputs": [
        {
          "output_type": "execute_result",
          "data": {
            "application/vnd.google.colaboratory.intrinsic+json": {
              "type": "string"
            },
            "text/plain": [
              "'TheProjectGutenbergeBookofTheT'"
            ]
          },
          "metadata": {
            "tags": []
          },
          "execution_count": 9
        }
      ]
    },
    {
      "cell_type": "code",
      "metadata": {
        "colab": {
          "base_uri": "https://localhost:8080/",
          "height": 37
        },
        "id": "GL0nQYwM_b62",
        "outputId": "e57331bd-d066-4383-8296-3fc2e8af53ca"
      },
      "source": [
        "# Making all the letters lowercase and in alphabetical order \n",
        "\n",
        "lowercasenewtext = newtext.lower()\n",
        "\n",
        "alphabeticallowercasenewtext = ''.join(sorted(lowercasenewtext))\n",
        "\n",
        "\n",
        "alphabeticallowercasenewtext[:30]"
      ],
      "execution_count": null,
      "outputs": [
        {
          "output_type": "execute_result",
          "data": {
            "application/vnd.google.colaboratory.intrinsic+json": {
              "type": "string"
            },
            "text/plain": [
              "'aaaaaaaaaaaaaaaaaaaaaaaaaaaaaa'"
            ]
          },
          "metadata": {
            "tags": []
          },
          "execution_count": 10
        }
      ]
    },
    {
      "cell_type": "code",
      "metadata": {
        "colab": {
          "base_uri": "https://localhost:8080/"
        },
        "id": "H9f29YrKig5O",
        "outputId": "3d529401-9920-4536-ddd9-5f724285f04f"
      },
      "source": [
        "# Computing the Letter frequencies \n",
        "\n",
        "letters = list(alphabeticallowercasenewtext)\n",
        "\n",
        "letters[:30]"
      ],
      "execution_count": null,
      "outputs": [
        {
          "output_type": "execute_result",
          "data": {
            "text/plain": [
              "['a',\n",
              " 'a',\n",
              " 'a',\n",
              " 'a',\n",
              " 'a',\n",
              " 'a',\n",
              " 'a',\n",
              " 'a',\n",
              " 'a',\n",
              " 'a',\n",
              " 'a',\n",
              " 'a',\n",
              " 'a',\n",
              " 'a',\n",
              " 'a',\n",
              " 'a',\n",
              " 'a',\n",
              " 'a',\n",
              " 'a',\n",
              " 'a',\n",
              " 'a',\n",
              " 'a',\n",
              " 'a',\n",
              " 'a',\n",
              " 'a',\n",
              " 'a',\n",
              " 'a',\n",
              " 'a',\n",
              " 'a',\n",
              " 'a']"
            ]
          },
          "metadata": {
            "tags": []
          },
          "execution_count": 11
        }
      ]
    },
    {
      "cell_type": "code",
      "metadata": {
        "colab": {
          "base_uri": "https://localhost:8080/"
        },
        "id": "XSefOH2H4EKj",
        "outputId": "90ee1f4a-1159-4db1-bb3f-a8fb0599bb24"
      },
      "source": [
        "frequency = {}\n",
        "\n",
        "for ltr in letters:\n",
        "  if ltr in frequency:\n",
        "    frequency[ltr] += 1\n",
        "  else:\n",
        "     frequency[ltr] = 1\n",
        "\n",
        "print(frequency)\n"
      ],
      "execution_count": null,
      "outputs": [
        {
          "output_type": "stream",
          "text": [
            "{'a': 12752, 'b': 2171, 'c': 4049, 'd': 6868, 'e': 19781, 'f': 3749, 'g': 3512, 'h': 8841, 'i': 11312, 'j': 187, 'k': 1231, 'l': 6658, 'm': 4420, 'n': 11012, 'o': 11157, 'p': 2867, 'q': 106, 'r': 8895, 's': 9313, 't': 15155, 'u': 4328, 'v': 1435, 'w': 3524, 'x': 282, 'y': 3024, 'z': 108}\n"
          ],
          "name": "stdout"
        }
      ]
    },
    {
      "cell_type": "code",
      "metadata": {
        "id": "wnJJJOjO-eMD"
      },
      "source": [
        "# Creating a plot of the frequencies of each letter\n",
        "\n",
        "names = list(frequency.keys())\n",
        "values = list(frequency.values())\n"
      ],
      "execution_count": null,
      "outputs": []
    },
    {
      "cell_type": "code",
      "metadata": {
        "colab": {
          "base_uri": "https://localhost:8080/",
          "height": 279
        },
        "id": "l64MGcY93yc4",
        "outputId": "37c21c5d-d0b5-4a58-83f1-d5d8430fe50e"
      },
      "source": [
        "fig,ax = plt.subplots(1,figsize=(15,4))\n",
        "ax.bar(range(len(names)),values)\n",
        "ax.set_xticks(range(len(names)))\n",
        "ax.set_xticklabels(names)\n",
        "ax.set_xlabel('Letter')\n",
        "ax.set_ylabel('Count')\n",
        "plt.show()"
      ],
      "execution_count": null,
      "outputs": [
        {
          "output_type": "display_data",
          "data": {
            "image/png": "[encoded data removed]",
            "text/plain": [
              "<Figure size 1080x288 with 1 Axes>"
            ]
          },
          "metadata": {
            "tags": [],
            "needs_background": "light"
          }
        }
      ]
    },
    {
      "cell_type": "code",
      "metadata": {
        "colab": {
          "base_uri": "https://localhost:8080/",
          "height": 855
        },
        "id": "6TYwmBRgBg_m",
        "outputId": "e1c1aa57-1f04-42b9-8aef-dcad53b1ac69"
      },
      "source": [
        "# Converting the counts of each letter into probability \n",
        "\n",
        "df = pd.DataFrame(frequency, index = [0]).T\n",
        "df.columns=['Count']\n",
        "\n",
        "\n",
        "df"
      ],
      "execution_count": null,
      "outputs": [
        {
          "output_type": "execute_result",
          "data": {
            "text/html": [
              "<div>\n",
              "<style scoped>\n",
              "    .dataframe tbody tr th:only-of-type {\n",
              "        vertical-align: middle;\n",
              "    }\n",
              "\n",
              "    .dataframe tbody tr th {\n",
              "        vertical-align: top;\n",
              "    }\n",
              "\n",
              "    .dataframe thead th {\n",
              "        text-align: right;\n",
              "    }\n",
              "</style>\n",
              "<table border=\"1\" class=\"dataframe\">\n",
              "  <thead>\n",
              "    <tr style=\"text-align: right;\">\n",
              "      <th></th>\n",
              "      <th>Count</th>\n",
              "    </tr>\n",
              "  </thead>\n",
              "  <tbody>\n",
              "    <tr>\n",
              "      <th>a</th>\n",
              "      <td>12752</td>\n",
              "    </tr>\n",
              "    <tr>\n",
              "      <th>b</th>\n",
              "      <td>2171</td>\n",
              "    </tr>\n",
              "    <tr>\n",
              "      <th>c</th>\n",
              "      <td>4049</td>\n",
              "    </tr>\n",
              "    <tr>\n",
              "      <th>d</th>\n",
              "      <td>6868</td>\n",
              "    </tr>\n",
              "    <tr>\n",
              "      <th>e</th>\n",
              "      <td>19781</td>\n",
              "    </tr>\n",
              "    <tr>\n",
              "      <th>f</th>\n",
              "      <td>3749</td>\n",
              "    </tr>\n",
              "    <tr>\n",
              "      <th>g</th>\n",
              "      <td>3512</td>\n",
              "    </tr>\n",
              "    <tr>\n",
              "      <th>h</th>\n",
              "      <td>8841</td>\n",
              "    </tr>\n",
              "    <tr>\n",
              "      <th>i</th>\n",
              "      <td>11312</td>\n",
              "    </tr>\n",
              "    <tr>\n",
              "      <th>j</th>\n",
              "      <td>187</td>\n",
              "    </tr>\n",
              "    <tr>\n",
              "      <th>k</th>\n",
              "      <td>1231</td>\n",
              "    </tr>\n",
              "    <tr>\n",
              "      <th>l</th>\n",
              "      <td>6658</td>\n",
              "    </tr>\n",
              "    <tr>\n",
              "      <th>m</th>\n",
              "      <td>4420</td>\n",
              "    </tr>\n",
              "    <tr>\n",
              "      <th>n</th>\n",
              "      <td>11012</td>\n",
              "    </tr>\n",
              "    <tr>\n",
              "      <th>o</th>\n",
              "      <td>11157</td>\n",
              "    </tr>\n",
              "    <tr>\n",
              "      <th>p</th>\n",
              "      <td>2867</td>\n",
              "    </tr>\n",
              "    <tr>\n",
              "      <th>q</th>\n",
              "      <td>106</td>\n",
              "    </tr>\n",
              "    <tr>\n",
              "      <th>r</th>\n",
              "      <td>8895</td>\n",
              "    </tr>\n",
              "    <tr>\n",
              "      <th>s</th>\n",
              "      <td>9313</td>\n",
              "    </tr>\n",
              "    <tr>\n",
              "      <th>t</th>\n",
              "      <td>15155</td>\n",
              "    </tr>\n",
              "    <tr>\n",
              "      <th>u</th>\n",
              "      <td>4328</td>\n",
              "    </tr>\n",
              "    <tr>\n",
              "      <th>v</th>\n",
              "      <td>1435</td>\n",
              "    </tr>\n",
              "    <tr>\n",
              "      <th>w</th>\n",
              "      <td>3524</td>\n",
              "    </tr>\n",
              "    <tr>\n",
              "      <th>x</th>\n",
              "      <td>282</td>\n",
              "    </tr>\n",
              "    <tr>\n",
              "      <th>y</th>\n",
              "      <td>3024</td>\n",
              "    </tr>\n",
              "    <tr>\n",
              "      <th>z</th>\n",
              "      <td>108</td>\n",
              "    </tr>\n",
              "  </tbody>\n",
              "</table>\n",
              "</div>"
            ],
            "text/plain": [
              "   Count\n",
              "a  12752\n",
              "b   2171\n",
              "c   4049\n",
              "d   6868\n",
              "e  19781\n",
              "f   3749\n",
              "g   3512\n",
              "h   8841\n",
              "i  11312\n",
              "j    187\n",
              "k   1231\n",
              "l   6658\n",
              "m   4420\n",
              "n  11012\n",
              "o  11157\n",
              "p   2867\n",
              "q    106\n",
              "r   8895\n",
              "s   9313\n",
              "t  15155\n",
              "u   4328\n",
              "v   1435\n",
              "w   3524\n",
              "x    282\n",
              "y   3024\n",
              "z    108"
            ]
          },
          "metadata": {
            "tags": []
          },
          "execution_count": 15
        }
      ]
    },
    {
      "cell_type": "code",
      "metadata": {
        "colab": {
          "base_uri": "https://localhost:8080/",
          "height": 855
        },
        "id": "LBm3Q2-caBjr",
        "outputId": "9f75948c-829d-40f6-8945-a37bf1264627"
      },
      "source": [
        "total = df['Count'].sum()\n",
        "\n",
        "df['Probability']  = df['Count']/total\n",
        "\n",
        "df"
      ],
      "execution_count": null,
      "outputs": [
        {
          "output_type": "execute_result",
          "data": {
            "text/html": [
              "<div>\n",
              "<style scoped>\n",
              "    .dataframe tbody tr th:only-of-type {\n",
              "        vertical-align: middle;\n",
              "    }\n",
              "\n",
              "    .dataframe tbody tr th {\n",
              "        vertical-align: top;\n",
              "    }\n",
              "\n",
              "    .dataframe thead th {\n",
              "        text-align: right;\n",
              "    }\n",
              "</style>\n",
              "<table border=\"1\" class=\"dataframe\">\n",
              "  <thead>\n",
              "    <tr style=\"text-align: right;\">\n",
              "      <th></th>\n",
              "      <th>Count</th>\n",
              "      <th>Probability</th>\n",
              "    </tr>\n",
              "  </thead>\n",
              "  <tbody>\n",
              "    <tr>\n",
              "      <th>a</th>\n",
              "      <td>12752</td>\n",
              "      <td>0.081359</td>\n",
              "    </tr>\n",
              "    <tr>\n",
              "      <th>b</th>\n",
              "      <td>2171</td>\n",
              "      <td>0.013851</td>\n",
              "    </tr>\n",
              "    <tr>\n",
              "      <th>c</th>\n",
              "      <td>4049</td>\n",
              "      <td>0.025833</td>\n",
              "    </tr>\n",
              "    <tr>\n",
              "      <th>d</th>\n",
              "      <td>6868</td>\n",
              "      <td>0.043819</td>\n",
              "    </tr>\n",
              "    <tr>\n",
              "      <th>e</th>\n",
              "      <td>19781</td>\n",
              "      <td>0.126205</td>\n",
              "    </tr>\n",
              "    <tr>\n",
              "      <th>f</th>\n",
              "      <td>3749</td>\n",
              "      <td>0.023919</td>\n",
              "    </tr>\n",
              "    <tr>\n",
              "      <th>g</th>\n",
              "      <td>3512</td>\n",
              "      <td>0.022407</td>\n",
              "    </tr>\n",
              "    <tr>\n",
              "      <th>h</th>\n",
              "      <td>8841</td>\n",
              "      <td>0.056407</td>\n",
              "    </tr>\n",
              "    <tr>\n",
              "      <th>i</th>\n",
              "      <td>11312</td>\n",
              "      <td>0.072172</td>\n",
              "    </tr>\n",
              "    <tr>\n",
              "      <th>j</th>\n",
              "      <td>187</td>\n",
              "      <td>0.001193</td>\n",
              "    </tr>\n",
              "    <tr>\n",
              "      <th>k</th>\n",
              "      <td>1231</td>\n",
              "      <td>0.007854</td>\n",
              "    </tr>\n",
              "    <tr>\n",
              "      <th>l</th>\n",
              "      <td>6658</td>\n",
              "      <td>0.042479</td>\n",
              "    </tr>\n",
              "    <tr>\n",
              "      <th>m</th>\n",
              "      <td>4420</td>\n",
              "      <td>0.028200</td>\n",
              "    </tr>\n",
              "    <tr>\n",
              "      <th>n</th>\n",
              "      <td>11012</td>\n",
              "      <td>0.070258</td>\n",
              "    </tr>\n",
              "    <tr>\n",
              "      <th>o</th>\n",
              "      <td>11157</td>\n",
              "      <td>0.071183</td>\n",
              "    </tr>\n",
              "    <tr>\n",
              "      <th>p</th>\n",
              "      <td>2867</td>\n",
              "      <td>0.018292</td>\n",
              "    </tr>\n",
              "    <tr>\n",
              "      <th>q</th>\n",
              "      <td>106</td>\n",
              "      <td>0.000676</td>\n",
              "    </tr>\n",
              "    <tr>\n",
              "      <th>r</th>\n",
              "      <td>8895</td>\n",
              "      <td>0.056751</td>\n",
              "    </tr>\n",
              "    <tr>\n",
              "      <th>s</th>\n",
              "      <td>9313</td>\n",
              "      <td>0.059418</td>\n",
              "    </tr>\n",
              "    <tr>\n",
              "      <th>t</th>\n",
              "      <td>15155</td>\n",
              "      <td>0.096691</td>\n",
              "    </tr>\n",
              "    <tr>\n",
              "      <th>u</th>\n",
              "      <td>4328</td>\n",
              "      <td>0.027613</td>\n",
              "    </tr>\n",
              "    <tr>\n",
              "      <th>v</th>\n",
              "      <td>1435</td>\n",
              "      <td>0.009155</td>\n",
              "    </tr>\n",
              "    <tr>\n",
              "      <th>w</th>\n",
              "      <td>3524</td>\n",
              "      <td>0.022484</td>\n",
              "    </tr>\n",
              "    <tr>\n",
              "      <th>x</th>\n",
              "      <td>282</td>\n",
              "      <td>0.001799</td>\n",
              "    </tr>\n",
              "    <tr>\n",
              "      <th>y</th>\n",
              "      <td>3024</td>\n",
              "      <td>0.019293</td>\n",
              "    </tr>\n",
              "    <tr>\n",
              "      <th>z</th>\n",
              "      <td>108</td>\n",
              "      <td>0.000689</td>\n",
              "    </tr>\n",
              "  </tbody>\n",
              "</table>\n",
              "</div>"
            ],
            "text/plain": [
              "   Count  Probability\n",
              "a  12752     0.081359\n",
              "b   2171     0.013851\n",
              "c   4049     0.025833\n",
              "d   6868     0.043819\n",
              "e  19781     0.126205\n",
              "f   3749     0.023919\n",
              "g   3512     0.022407\n",
              "h   8841     0.056407\n",
              "i  11312     0.072172\n",
              "j    187     0.001193\n",
              "k   1231     0.007854\n",
              "l   6658     0.042479\n",
              "m   4420     0.028200\n",
              "n  11012     0.070258\n",
              "o  11157     0.071183\n",
              "p   2867     0.018292\n",
              "q    106     0.000676\n",
              "r   8895     0.056751\n",
              "s   9313     0.059418\n",
              "t  15155     0.096691\n",
              "u   4328     0.027613\n",
              "v   1435     0.009155\n",
              "w   3524     0.022484\n",
              "x    282     0.001799\n",
              "y   3024     0.019293\n",
              "z    108     0.000689"
            ]
          },
          "metadata": {
            "tags": []
          },
          "execution_count": 16
        }
      ]
    },
    {
      "cell_type": "code",
      "metadata": {
        "colab": {
          "base_uri": "https://localhost:8080/"
        },
        "id": "Vlrl-l97kaVe",
        "outputId": "ee7a2d33-a29f-4df4-fef0-755b9dff04df"
      },
      "source": [
        "print(df['Probability'].sum())"
      ],
      "execution_count": null,
      "outputs": [
        {
          "output_type": "stream",
          "text": [
            "1.0000000000000002\n"
          ],
          "name": "stdout"
        }
      ]
    },
    {
      "cell_type": "code",
      "metadata": {
        "colab": {
          "base_uri": "https://localhost:8080/",
          "height": 388
        },
        "id": "Fl73tmPHlFmg",
        "outputId": "54826c15-c149-467c-fe33-1ad44982c8ae"
      },
      "source": [
        "jig,bx = plt.subplots(1,figsize=(15,6))\n",
        "bx.bar(range(len(names)),df['Probability'])\n",
        "bx.set_xticks(range(len(names)))\n",
        "bx.set_xticklabels(names)\n",
        "bx.set_xlabel('Letter')\n",
        "bx.set_ylabel('Probability')\n",
        "jig;"
      ],
      "execution_count": null,
      "outputs": [
        {
          "output_type": "display_data",
          "data": {
            "image/png": "[encoded data removed]",
            "text/plain": [
              "<Figure size 1080x432 with 1 Axes>"
            ]
          },
          "metadata": {
            "tags": [],
            "needs_background": "light"
          }
        }
      ]
    },
    {
      "cell_type": "code",
      "metadata": {
        "colab": {
          "base_uri": "https://localhost:8080/"
        },
        "id": "HKhLtuULoY5G",
        "outputId": "c61a4c8e-8301-476c-ac52-9d40511f81c2"
      },
      "source": [
        "#entropy = - (sigma) p(xi)log2(p(xi))\n",
        "\n",
        "totalentropy = 0\n",
        "n=0\n",
        "for ind in df.index:\n",
        "  totalentropy += -(df['Probability'].iloc[n] * np.log2(df['Probability'].iloc[n]))\n",
        "  n +=1\n",
        "\n",
        "print(totalentropy)"
      ],
      "execution_count": null,
      "outputs": [
        {
          "output_type": "stream",
          "text": [
            "4.173084127748868\n"
          ],
          "name": "stdout"
        }
      ]
    },
    {
      "cell_type": "code",
      "metadata": {
        "colab": {
          "base_uri": "https://localhost:8080/",
          "height": 404
        },
        "id": "h5O01yvvOaxz",
        "outputId": "58000c73-6539-440c-bcc5-459256e1a049"
      },
      "source": [
        "bx.set_title('Entropy = %.3f bits'%totalentropy)\n",
        "jig"
      ],
      "execution_count": null,
      "outputs": [
        {
          "output_type": "execute_result",
          "data": {
            "image/png": "[encoded data removed]",
            "text/plain": [
              "<Figure size 1080x432 with 1 Axes>"
            ]
          },
          "metadata": {
            "tags": []
          },
          "execution_count": 20
        }
      ]
    },
    {
      "cell_type": "code",
      "metadata": {
        "id": "iG2MHbxUsVEO"
      },
      "source": [
        "# Conditional Entropy \n",
        "\n",
        "alphlen = len(names) \n",
        "\n",
        "probmat = np.zeros((alphlen, alphlen))"
      ],
      "execution_count": null,
      "outputs": []
    },
    {
      "cell_type": "code",
      "metadata": {
        "id": "5SvDSCYq7Jyo"
      },
      "source": [
        "for i in range(len(text)-1):\n",
        "  currlet = text[i]\n",
        "  nextlet = text[i+1]\n",
        "  if currlet in names and nextlet in names:\n",
        "    probmat[names.index(currlet),names.index(nextlet)] += 1"
      ],
      "execution_count": null,
      "outputs": []
    },
    {
      "cell_type": "code",
      "metadata": {
        "colab": {
          "base_uri": "https://localhost:8080/",
          "height": 442
        },
        "id": "YFiLeQGKWVAO",
        "outputId": "933ebbc2-f260-4bda-a5b0-ea52741d99ef"
      },
      "source": [
        "fig,ax = plt.subplots (1, figsize =(7,7))\n",
        "ax.imshow(probmat, vmax =500)\n",
        "ax.set_ylabel('Current Letter')\n",
        "ax.set_xlabel('Next Letter')\n",
        "ax.set_xticks(range(len(names)))\n",
        "ax.set_xticklabels(names)\n",
        "ax.set_yticks(range(len(names)))\n",
        "ax.set_yticklabels(names)\n",
        "plt.show()"
      ],
      "execution_count": null,
      "outputs": [
        {
          "output_type": "display_data",
          "data": {
            "image/png": "[encoded data removed]",
            "text/plain": [
              "<Figure size 504x504 with 1 Axes>"
            ]
          },
          "metadata": {
            "tags": [],
            "needs_background": "light"
          }
        }
      ]
    },
    {
      "cell_type": "code",
      "metadata": {
        "id": "Y3rCobRkpySO",
        "colab": {
          "base_uri": "https://localhost:8080/"
        },
        "outputId": "90c39a68-aaa9-47c6-d3d9-2f3535890418"
      },
      "source": [
        "condentr = np.zeros(alphlen)\n",
        "\n",
        "for i in range(alphlen):\n",
        "  probs = probmat[i,:]\n",
        "  probs = probs/sum(probs)\n",
        "  condentr[i] = -sum(probs*np.log2(probs + np.finfo(float).eps))\n",
        "\n",
        "condentr\n",
        "\n"
      ],
      "execution_count": null,
      "outputs": [
        {
          "output_type": "execute_result",
          "data": {
            "text/plain": [
              "array([ 3.64074099e+00,  2.95010018e+00,  3.24140006e+00,  3.00655688e+00,\n",
              "        3.67748020e+00,  3.02976822e+00,  3.09026710e+00,  2.07406242e+00,\n",
              "        3.36534107e+00,  1.45490467e+00,  2.33781232e+00,  3.28422605e+00,\n",
              "        2.75909226e+00,  3.35378253e+00,  3.70421941e+00,  3.30734043e+00,\n",
              "       -3.20342650e-16,  3.52314877e+00,  3.36621189e+00,  2.80569391e+00,\n",
              "        3.46214550e+00,  1.15940487e+00,  2.72231302e+00,  2.57042486e+00,\n",
              "        2.80682589e+00,  2.21839596e+00])"
            ]
          },
          "metadata": {
            "tags": []
          },
          "execution_count": 30
        }
      ]
    },
    {
      "cell_type": "code",
      "metadata": {
        "colab": {
          "base_uri": "https://localhost:8080/",
          "height": 295
        },
        "id": "ncSEStiZkfue",
        "outputId": "679d6b70-6ad8-4524-b5cb-846fa9b7b2cd"
      },
      "source": [
        "fig,ax  = plt.subplots(1,figsize=(8,4))\n",
        "ax.bar(range(alphlen),condentr)\n",
        "ax.set_xticks(range(alphlen))\n",
        "ax.set_xticklabels(names)\n",
        "ax.set_xlabel('Letter')\n",
        "ax.set_ylabel('Entropy (bits)')\n",
        "ax.set_title('Lag - 1 conditional entropy per letter')\n",
        "plt.show()"
      ],
      "execution_count": null,
      "outputs": [
        {
          "output_type": "display_data",
          "data": {
            "image/png": "[encoded data removed]",
            "text/plain": [
              "<Figure size 576x288 with 1 Axes>"
            ]
          },
          "metadata": {
            "tags": [],
            "needs_background": "light"
          }
        }
      ]
    }
  ]
}