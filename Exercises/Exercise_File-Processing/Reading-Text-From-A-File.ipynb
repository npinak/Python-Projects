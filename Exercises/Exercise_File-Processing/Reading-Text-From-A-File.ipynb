{
 "metadata": {
  "language_info": {
   "codemirror_mode": {
    "name": "ipython",
    "version": 3
   },
   "file_extension": ".py",
   "mimetype": "text/x-python",
   "name": "python",
   "nbconvert_exporter": "python",
   "pygments_lexer": "ipython3",
   "version": "3.9.6"
  },
  "orig_nbformat": 4,
  "kernelspec": {
   "name": "python3",
   "display_name": "Python 3.9.6 64-bit"
  },
  "interpreter": {
   "hash": "7812ea015bdcee6f23a998adcdd2ef97c151c0c241b7b7070987d9313e41299d"
  }
 },
 "nbformat": 4,
 "nbformat_minor": 2,
 "cells": [
  {
   "cell_type": "code",
   "execution_count": 16,
   "metadata": {},
   "outputs": [],
   "source": [
    "myfile = open(\"/Users/pinaknayak/Documents/Github/Python-Projects/Exercise_File-Processing/fruits.txt\")\n",
    "\n"
   ]
  },
  {
   "cell_type": "code",
   "execution_count": 13,
   "metadata": {},
   "outputs": [
    {
     "output_type": "stream",
     "name": "stdout",
     "text": [
      "pear\napple\norange\nmandarin\nwatermelon\npomegranate\n\n"
     ]
    }
   ],
   "source": [
    "print(myfile.read())\n"
   ]
  },
  {
   "cell_type": "code",
   "execution_count": 17,
   "metadata": {},
   "outputs": [
    {
     "output_type": "stream",
     "name": "stdout",
     "text": [
      "pear\napple\norange\nmandarin\nwatermelon\npomegranate\n\n"
     ]
    }
   ],
   "source": [
    "mycontent = myfile.read()\n",
    "print(mycontent)\n",
    "\n",
    "## Closing a file ##\n",
    "myfile.close "
   ]
  },
  {
   "cell_type": "code",
   "execution_count": 18,
   "metadata": {},
   "outputs": [
    {
     "output_type": "stream",
     "name": "stdout",
     "text": [
      "pear\napple\norange\nmandarin\nwatermelon\npomegranate\n\n"
     ]
    }
   ],
   "source": [
    "# Opening with \"with\"\n",
    "\n",
    "with open(\"/Users/pinaknayak/Documents/Github/Python-Projects/Exercise_File-Processing/fruits.txt\") as myfile:\n",
    "    content = myfile.read()\n",
    "    \n",
    "# With closes file automatically\n",
    "print(content)\n",
    "\n"
   ]
  },
  {
   "cell_type": "code",
   "execution_count": 22,
   "metadata": {},
   "outputs": [],
   "source": [
    "# Writing Text to a File -- use \"w\"\n",
    "with open(\"/Users/pinaknayak/Documents/Github/Python-Projects/Exercise_File-Processing/vegetables.txt\", \"w\") as myfile:\n",
    "    myfile.write(\"Tomato\\nOnion Garlic\")\n",
    "\n",
    "# If the file already exists then python will overwrite the existing file"
   ]
  },
  {
   "cell_type": "code",
   "execution_count": 2,
   "metadata": {},
   "outputs": [],
   "source": [
    "# Appending Text to an existing file \n",
    "with open(\"/Users/pinaknayak/Documents/Github/Python-Projects/Exercise_File-Processing/vegetables.txt\", \"a\") as myfile:\n",
    "    myfile.write(\"Tomato\\nOnion Garlic and Potato\")\n",
    "\n"
   ]
  },
  {
   "cell_type": "code",
   "execution_count": null,
   "metadata": {},
   "outputs": [],
   "source": [
    "import time \n",
    "import os \n",
    "while True:\n",
    "    if os.path.exists(\"vegetables.txt\"):\n",
    "        with open(\"vegetables.txt\", \"r\") as file:\n",
    "            print(file.read())\n",
    "    else:\n",
    "        print(\"File does not exist.\")\n",
    "    time.sleep(10)"
   ]
  },
  {
   "cell_type": "code",
   "execution_count": null,
   "metadata": {},
   "outputs": [],
   "source": [
    "# CSV file\n",
    "\n",
    "import pandas as pd\n",
    "import time \n",
    "import os \n",
    "\n",
    "while True:\n",
    "    if os.path.exists(\"temps_today.csv\"):\n",
    "        data = pd.read_csv(\"temps_today.csv\")\n",
    "        print(data.mean())\n",
    "    else:\n",
    "        print(\"File does not exist.\")\n",
    "    time.sleep(10)"
   ]
  },
  {
   "cell_type": "code",
   "execution_count": null,
   "metadata": {},
   "outputs": [],
   "source": []
  }
 ]
}