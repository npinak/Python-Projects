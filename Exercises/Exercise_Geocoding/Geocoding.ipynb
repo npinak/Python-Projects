{
 "metadata": {
  "language_info": {
   "codemirror_mode": {
    "name": "ipython",
    "version": 3
   },
   "file_extension": ".py",
   "mimetype": "text/x-python",
   "name": "python",
   "nbconvert_exporter": "python",
   "pygments_lexer": "ipython3",
   "version": "3.9.6"
  },
  "orig_nbformat": 4,
  "kernelspec": {
   "name": "python3",
   "display_name": "Python 3.9.6 64-bit"
  },
  "interpreter": {
   "hash": "aee8b7b246df8f9039afb4144a1f6fd8d2ca17a180786b69acc140d282b71a49"
  }
 },
 "nbformat": 4,
 "nbformat_minor": 2,
 "cells": [
  {
   "cell_type": "code",
   "execution_count": 16,
   "metadata": {},
   "outputs": [],
   "source": [
    "from geopy.geocoders import ArcGIS"
   ]
  },
  {
   "cell_type": "code",
   "execution_count": 8,
   "metadata": {},
   "outputs": [
    {
     "output_type": "execute_result",
     "data": {
      "text/plain": [
       "   ID          Address           City             State Country  \\\n",
       "0   1     3666 21st St  San Francisco          CA 94114     USA   \n",
       "1   2   735 Dolores St  San Francisco          CA 94119     USA   \n",
       "2   3      332 Hill St  San Francisco  California 94114     USA   \n",
       "3   4     3995 23rd St  San Francisco          CA 94114     USA   \n",
       "4   5  1056 Sanchez St  San Francisco        California     USA   \n",
       "5   6  551 Alvarado St  San Francisco          CA 94114     USA   \n",
       "\n",
       "  Supermarket Name  Number of Employees  \n",
       "0          Madeira                    8  \n",
       "1      Bready Shop                   15  \n",
       "2      Super River                   25  \n",
       "3       Ben's Shop                   10  \n",
       "4          Sanchez                   12  \n",
       "5       Richvalley                   20  "
      ],
      "text/html": "<div>\n<style scoped>\n    .dataframe tbody tr th:only-of-type {\n        vertical-align: middle;\n    }\n\n    .dataframe tbody tr th {\n        vertical-align: top;\n    }\n\n    .dataframe thead th {\n        text-align: right;\n    }\n</style>\n<table border=\"1\" class=\"dataframe\">\n  <thead>\n    <tr style=\"text-align: right;\">\n      <th></th>\n      <th>ID</th>\n      <th>Address</th>\n      <th>City</th>\n      <th>State</th>\n      <th>Country</th>\n      <th>Supermarket Name</th>\n      <th>Number of Employees</th>\n    </tr>\n  </thead>\n  <tbody>\n    <tr>\n      <th>0</th>\n      <td>1</td>\n      <td>3666 21st St</td>\n      <td>San Francisco</td>\n      <td>CA 94114</td>\n      <td>USA</td>\n      <td>Madeira</td>\n      <td>8</td>\n    </tr>\n    <tr>\n      <th>1</th>\n      <td>2</td>\n      <td>735 Dolores St</td>\n      <td>San Francisco</td>\n      <td>CA 94119</td>\n      <td>USA</td>\n      <td>Bready Shop</td>\n      <td>15</td>\n    </tr>\n    <tr>\n      <th>2</th>\n      <td>3</td>\n      <td>332 Hill St</td>\n      <td>San Francisco</td>\n      <td>California 94114</td>\n      <td>USA</td>\n      <td>Super River</td>\n      <td>25</td>\n    </tr>\n    <tr>\n      <th>3</th>\n      <td>4</td>\n      <td>3995 23rd St</td>\n      <td>San Francisco</td>\n      <td>CA 94114</td>\n      <td>USA</td>\n      <td>Ben's Shop</td>\n      <td>10</td>\n    </tr>\n    <tr>\n      <th>4</th>\n      <td>5</td>\n      <td>1056 Sanchez St</td>\n      <td>San Francisco</td>\n      <td>California</td>\n      <td>USA</td>\n      <td>Sanchez</td>\n      <td>12</td>\n    </tr>\n    <tr>\n      <th>5</th>\n      <td>6</td>\n      <td>551 Alvarado St</td>\n      <td>San Francisco</td>\n      <td>CA 94114</td>\n      <td>USA</td>\n      <td>Richvalley</td>\n      <td>20</td>\n    </tr>\n  </tbody>\n</table>\n</div>"
     },
     "metadata": {},
     "execution_count": 8
    }
   ],
   "source": [
    "import pandas as pd\n",
    "\n",
    "df = pd.read_excel (r'//Users/pinaknayak/Documents/Github/Python-Projects/Exercises/Exercise_Geocoding/supermarkets.xlsx')\n",
    "df"
   ]
  },
  {
   "cell_type": "code",
   "execution_count": 9,
   "metadata": {},
   "outputs": [],
   "source": [
    "df[\"Continent \"] = df.shape[0]*[\"North America\"]"
   ]
  },
  {
   "cell_type": "code",
   "execution_count": 10,
   "metadata": {},
   "outputs": [
    {
     "output_type": "execute_result",
     "data": {
      "text/plain": [
       "   ID          Address           City             State Country  \\\n",
       "0   1     3666 21st St  San Francisco          CA 94114     USA   \n",
       "1   2   735 Dolores St  San Francisco          CA 94119     USA   \n",
       "2   3      332 Hill St  San Francisco  California 94114     USA   \n",
       "3   4     3995 23rd St  San Francisco          CA 94114     USA   \n",
       "4   5  1056 Sanchez St  San Francisco        California     USA   \n",
       "5   6  551 Alvarado St  San Francisco          CA 94114     USA   \n",
       "\n",
       "  Supermarket Name  Number of Employees     Continent   \n",
       "0          Madeira                    8  North America  \n",
       "1      Bready Shop                   15  North America  \n",
       "2      Super River                   25  North America  \n",
       "3       Ben's Shop                   10  North America  \n",
       "4          Sanchez                   12  North America  \n",
       "5       Richvalley                   20  North America  "
      ],
      "text/html": "<div>\n<style scoped>\n    .dataframe tbody tr th:only-of-type {\n        vertical-align: middle;\n    }\n\n    .dataframe tbody tr th {\n        vertical-align: top;\n    }\n\n    .dataframe thead th {\n        text-align: right;\n    }\n</style>\n<table border=\"1\" class=\"dataframe\">\n  <thead>\n    <tr style=\"text-align: right;\">\n      <th></th>\n      <th>ID</th>\n      <th>Address</th>\n      <th>City</th>\n      <th>State</th>\n      <th>Country</th>\n      <th>Supermarket Name</th>\n      <th>Number of Employees</th>\n      <th>Continent</th>\n    </tr>\n  </thead>\n  <tbody>\n    <tr>\n      <th>0</th>\n      <td>1</td>\n      <td>3666 21st St</td>\n      <td>San Francisco</td>\n      <td>CA 94114</td>\n      <td>USA</td>\n      <td>Madeira</td>\n      <td>8</td>\n      <td>North America</td>\n    </tr>\n    <tr>\n      <th>1</th>\n      <td>2</td>\n      <td>735 Dolores St</td>\n      <td>San Francisco</td>\n      <td>CA 94119</td>\n      <td>USA</td>\n      <td>Bready Shop</td>\n      <td>15</td>\n      <td>North America</td>\n    </tr>\n    <tr>\n      <th>2</th>\n      <td>3</td>\n      <td>332 Hill St</td>\n      <td>San Francisco</td>\n      <td>California 94114</td>\n      <td>USA</td>\n      <td>Super River</td>\n      <td>25</td>\n      <td>North America</td>\n    </tr>\n    <tr>\n      <th>3</th>\n      <td>4</td>\n      <td>3995 23rd St</td>\n      <td>San Francisco</td>\n      <td>CA 94114</td>\n      <td>USA</td>\n      <td>Ben's Shop</td>\n      <td>10</td>\n      <td>North America</td>\n    </tr>\n    <tr>\n      <th>4</th>\n      <td>5</td>\n      <td>1056 Sanchez St</td>\n      <td>San Francisco</td>\n      <td>California</td>\n      <td>USA</td>\n      <td>Sanchez</td>\n      <td>12</td>\n      <td>North America</td>\n    </tr>\n    <tr>\n      <th>5</th>\n      <td>6</td>\n      <td>551 Alvarado St</td>\n      <td>San Francisco</td>\n      <td>CA 94114</td>\n      <td>USA</td>\n      <td>Richvalley</td>\n      <td>20</td>\n      <td>North America</td>\n    </tr>\n  </tbody>\n</table>\n</div>"
     },
     "metadata": {},
     "execution_count": 10
    }
   ],
   "source": [
    "df"
   ]
  },
  {
   "cell_type": "code",
   "execution_count": 17,
   "metadata": {},
   "outputs": [],
   "source": [
    "nom = ArcGIS()"
   ]
  },
  {
   "cell_type": "code",
   "execution_count": 21,
   "metadata": {},
   "outputs": [],
   "source": [
    "n = nom.geocode(\"3995 23rd St, San Fransisco, CA 94114\")"
   ]
  },
  {
   "cell_type": "code",
   "execution_count": 24,
   "metadata": {},
   "outputs": [
    {
     "output_type": "stream",
     "name": "stdout",
     "text": [
      "-122.43170295955227\n37.75292099814533\n"
     ]
    }
   ],
   "source": [
    "longitude = n.longitude\n",
    "latitude = n.latitude\n",
    "print(longitude)\n",
    "print(latitude)"
   ]
  },
  {
   "cell_type": "code",
   "execution_count": 25,
   "metadata": {},
   "outputs": [],
   "source": [
    "df[\"Full Address\"] = df[\"Address\"] + \", \" + df[\"City\"] + \", \" + df[\"State\"] + \", \" + df[\"Country\"]"
   ]
  },
  {
   "cell_type": "code",
   "execution_count": 26,
   "metadata": {},
   "outputs": [
    {
     "output_type": "execute_result",
     "data": {
      "text/plain": [
       "   ID          Address           City             State Country  \\\n",
       "0   1     3666 21st St  San Francisco          CA 94114     USA   \n",
       "1   2   735 Dolores St  San Francisco          CA 94119     USA   \n",
       "2   3      332 Hill St  San Francisco  California 94114     USA   \n",
       "3   4     3995 23rd St  San Francisco          CA 94114     USA   \n",
       "4   5  1056 Sanchez St  San Francisco        California     USA   \n",
       "5   6  551 Alvarado St  San Francisco          CA 94114     USA   \n",
       "\n",
       "  Supermarket Name  Number of Employees     Continent   \\\n",
       "0          Madeira                    8  North America   \n",
       "1      Bready Shop                   15  North America   \n",
       "2      Super River                   25  North America   \n",
       "3       Ben's Shop                   10  North America   \n",
       "4          Sanchez                   12  North America   \n",
       "5       Richvalley                   20  North America   \n",
       "\n",
       "                                        Full Address  \n",
       "0         3666 21st St, San Francisco, CA 94114, USA  \n",
       "1       735 Dolores St, San Francisco, CA 94119, USA  \n",
       "2  332 Hill St, San Francisco, California 94114, USA  \n",
       "3         3995 23rd St, San Francisco, CA 94114, USA  \n",
       "4    1056 Sanchez St, San Francisco, California, USA  \n",
       "5      551 Alvarado St, San Francisco, CA 94114, USA  "
      ],
      "text/html": "<div>\n<style scoped>\n    .dataframe tbody tr th:only-of-type {\n        vertical-align: middle;\n    }\n\n    .dataframe tbody tr th {\n        vertical-align: top;\n    }\n\n    .dataframe thead th {\n        text-align: right;\n    }\n</style>\n<table border=\"1\" class=\"dataframe\">\n  <thead>\n    <tr style=\"text-align: right;\">\n      <th></th>\n      <th>ID</th>\n      <th>Address</th>\n      <th>City</th>\n      <th>State</th>\n      <th>Country</th>\n      <th>Supermarket Name</th>\n      <th>Number of Employees</th>\n      <th>Continent</th>\n      <th>Full Address</th>\n    </tr>\n  </thead>\n  <tbody>\n    <tr>\n      <th>0</th>\n      <td>1</td>\n      <td>3666 21st St</td>\n      <td>San Francisco</td>\n      <td>CA 94114</td>\n      <td>USA</td>\n      <td>Madeira</td>\n      <td>8</td>\n      <td>North America</td>\n      <td>3666 21st St, San Francisco, CA 94114, USA</td>\n    </tr>\n    <tr>\n      <th>1</th>\n      <td>2</td>\n      <td>735 Dolores St</td>\n      <td>San Francisco</td>\n      <td>CA 94119</td>\n      <td>USA</td>\n      <td>Bready Shop</td>\n      <td>15</td>\n      <td>North America</td>\n      <td>735 Dolores St, San Francisco, CA 94119, USA</td>\n    </tr>\n    <tr>\n      <th>2</th>\n      <td>3</td>\n      <td>332 Hill St</td>\n      <td>San Francisco</td>\n      <td>California 94114</td>\n      <td>USA</td>\n      <td>Super River</td>\n      <td>25</td>\n      <td>North America</td>\n      <td>332 Hill St, San Francisco, California 94114, USA</td>\n    </tr>\n    <tr>\n      <th>3</th>\n      <td>4</td>\n      <td>3995 23rd St</td>\n      <td>San Francisco</td>\n      <td>CA 94114</td>\n      <td>USA</td>\n      <td>Ben's Shop</td>\n      <td>10</td>\n      <td>North America</td>\n      <td>3995 23rd St, San Francisco, CA 94114, USA</td>\n    </tr>\n    <tr>\n      <th>4</th>\n      <td>5</td>\n      <td>1056 Sanchez St</td>\n      <td>San Francisco</td>\n      <td>California</td>\n      <td>USA</td>\n      <td>Sanchez</td>\n      <td>12</td>\n      <td>North America</td>\n      <td>1056 Sanchez St, San Francisco, California, USA</td>\n    </tr>\n    <tr>\n      <th>5</th>\n      <td>6</td>\n      <td>551 Alvarado St</td>\n      <td>San Francisco</td>\n      <td>CA 94114</td>\n      <td>USA</td>\n      <td>Richvalley</td>\n      <td>20</td>\n      <td>North America</td>\n      <td>551 Alvarado St, San Francisco, CA 94114, USA</td>\n    </tr>\n  </tbody>\n</table>\n</div>"
     },
     "metadata": {},
     "execution_count": 26
    }
   ],
   "source": [
    "df"
   ]
  },
  {
   "cell_type": "code",
   "execution_count": 31,
   "metadata": {},
   "outputs": [],
   "source": [
    "df[\"Coordinates\"] = df[\"Full Address\"].apply(nom.geocode)"
   ]
  },
  {
   "cell_type": "code",
   "execution_count": 33,
   "metadata": {},
   "outputs": [],
   "source": [
    "df[\"Latitude\"] = df[\"Coordinates\"].apply(lambda x: x.latitude if x != None else None)"
   ]
  },
  {
   "cell_type": "code",
   "execution_count": 34,
   "metadata": {},
   "outputs": [],
   "source": [
    "df[\"Longitude\"] = df[\"Coordinates\"].apply(lambda x: x.longitude if x != None else None)"
   ]
  },
  {
   "cell_type": "code",
   "execution_count": 35,
   "metadata": {},
   "outputs": [
    {
     "output_type": "execute_result",
     "data": {
      "text/plain": [
       "   ID          Address           City             State Country  \\\n",
       "0   1     3666 21st St  San Francisco          CA 94114     USA   \n",
       "1   2   735 Dolores St  San Francisco          CA 94119     USA   \n",
       "2   3      332 Hill St  San Francisco  California 94114     USA   \n",
       "3   4     3995 23rd St  San Francisco          CA 94114     USA   \n",
       "4   5  1056 Sanchez St  San Francisco        California     USA   \n",
       "5   6  551 Alvarado St  San Francisco          CA 94114     USA   \n",
       "\n",
       "  Supermarket Name  Number of Employees     Continent   \\\n",
       "0          Madeira                    8  North America   \n",
       "1      Bready Shop                   15  North America   \n",
       "2      Super River                   25  North America   \n",
       "3       Ben's Shop                   10  North America   \n",
       "4          Sanchez                   12  North America   \n",
       "5       Richvalley                   20  North America   \n",
       "\n",
       "                                        Full Address  \\\n",
       "0         3666 21st St, San Francisco, CA 94114, USA   \n",
       "1       735 Dolores St, San Francisco, CA 94119, USA   \n",
       "2  332 Hill St, San Francisco, California 94114, USA   \n",
       "3         3995 23rd St, San Francisco, CA 94114, USA   \n",
       "4    1056 Sanchez St, San Francisco, California, USA   \n",
       "5      551 Alvarado St, San Francisco, CA 94114, USA   \n",
       "\n",
       "                                         Coordinates   Latitude   Longitude  \n",
       "0  (3666 21st St, San Francisco, California, 9411...  37.756632 -122.429411  \n",
       "1  (735 Dolores St, San Francisco, California, 94...  37.757829 -122.425373  \n",
       "2  (332 Hill St, San Francisco, California, 94114...  37.755845 -122.428813  \n",
       "3  (3995 23rd St, San Francisco, California, 9411...  37.752921 -122.431703  \n",
       "4  (1056 Sanchez St, San Francisco, California, 9...  37.752132 -122.430006  \n",
       "5  (551 Alvarado St, San Francisco, California, 9...  37.753582 -122.433234  "
      ],
      "text/html": "<div>\n<style scoped>\n    .dataframe tbody tr th:only-of-type {\n        vertical-align: middle;\n    }\n\n    .dataframe tbody tr th {\n        vertical-align: top;\n    }\n\n    .dataframe thead th {\n        text-align: right;\n    }\n</style>\n<table border=\"1\" class=\"dataframe\">\n  <thead>\n    <tr style=\"text-align: right;\">\n      <th></th>\n      <th>ID</th>\n      <th>Address</th>\n      <th>City</th>\n      <th>State</th>\n      <th>Country</th>\n      <th>Supermarket Name</th>\n      <th>Number of Employees</th>\n      <th>Continent</th>\n      <th>Full Address</th>\n      <th>Coordinates</th>\n      <th>Latitude</th>\n      <th>Longitude</th>\n    </tr>\n  </thead>\n  <tbody>\n    <tr>\n      <th>0</th>\n      <td>1</td>\n      <td>3666 21st St</td>\n      <td>San Francisco</td>\n      <td>CA 94114</td>\n      <td>USA</td>\n      <td>Madeira</td>\n      <td>8</td>\n      <td>North America</td>\n      <td>3666 21st St, San Francisco, CA 94114, USA</td>\n      <td>(3666 21st St, San Francisco, California, 9411...</td>\n      <td>37.756632</td>\n      <td>-122.429411</td>\n    </tr>\n    <tr>\n      <th>1</th>\n      <td>2</td>\n      <td>735 Dolores St</td>\n      <td>San Francisco</td>\n      <td>CA 94119</td>\n      <td>USA</td>\n      <td>Bready Shop</td>\n      <td>15</td>\n      <td>North America</td>\n      <td>735 Dolores St, San Francisco, CA 94119, USA</td>\n      <td>(735 Dolores St, San Francisco, California, 94...</td>\n      <td>37.757829</td>\n      <td>-122.425373</td>\n    </tr>\n    <tr>\n      <th>2</th>\n      <td>3</td>\n      <td>332 Hill St</td>\n      <td>San Francisco</td>\n      <td>California 94114</td>\n      <td>USA</td>\n      <td>Super River</td>\n      <td>25</td>\n      <td>North America</td>\n      <td>332 Hill St, San Francisco, California 94114, USA</td>\n      <td>(332 Hill St, San Francisco, California, 94114...</td>\n      <td>37.755845</td>\n      <td>-122.428813</td>\n    </tr>\n    <tr>\n      <th>3</th>\n      <td>4</td>\n      <td>3995 23rd St</td>\n      <td>San Francisco</td>\n      <td>CA 94114</td>\n      <td>USA</td>\n      <td>Ben's Shop</td>\n      <td>10</td>\n      <td>North America</td>\n      <td>3995 23rd St, San Francisco, CA 94114, USA</td>\n      <td>(3995 23rd St, San Francisco, California, 9411...</td>\n      <td>37.752921</td>\n      <td>-122.431703</td>\n    </tr>\n    <tr>\n      <th>4</th>\n      <td>5</td>\n      <td>1056 Sanchez St</td>\n      <td>San Francisco</td>\n      <td>California</td>\n      <td>USA</td>\n      <td>Sanchez</td>\n      <td>12</td>\n      <td>North America</td>\n      <td>1056 Sanchez St, San Francisco, California, USA</td>\n      <td>(1056 Sanchez St, San Francisco, California, 9...</td>\n      <td>37.752132</td>\n      <td>-122.430006</td>\n    </tr>\n    <tr>\n      <th>5</th>\n      <td>6</td>\n      <td>551 Alvarado St</td>\n      <td>San Francisco</td>\n      <td>CA 94114</td>\n      <td>USA</td>\n      <td>Richvalley</td>\n      <td>20</td>\n      <td>North America</td>\n      <td>551 Alvarado St, San Francisco, CA 94114, USA</td>\n      <td>(551 Alvarado St, San Francisco, California, 9...</td>\n      <td>37.753582</td>\n      <td>-122.433234</td>\n    </tr>\n  </tbody>\n</table>\n</div>"
     },
     "metadata": {},
     "execution_count": 35
    }
   ],
   "source": [
    "df"
   ]
  },
  {
   "cell_type": "code",
   "execution_count": null,
   "metadata": {},
   "outputs": [],
   "source": []
  }
 ]
}