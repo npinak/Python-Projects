{
  "nbformat": 4,
  "nbformat_minor": 0,
  "metadata": {
    "colab": {
      "name": "Section-4_Exercises-Indexing-and-Slicing.ipynb",
      "provenance": []
    },
    "kernelspec": {
      "name": "python3",
      "display_name": "Python 3"
    },
    "language_info": {
      "name": "python"
    }
  },
  "cells": [
    {
      "cell_type": "code",
      "metadata": {
        "colab": {
          "base_uri": "https://localhost:8080/"
        },
        "id": "FOYIXOMJL-0d",
        "outputId": "a3e00ee4-1b9a-47de-bd14-60b917d90ac5"
      },
      "source": [
        "#indexing\n",
        "# 1) Exercise alist = [4,3.2,[9,4,5],4] - Using indexing call out 5 from this list\n",
        "\n",
        "alist = [4,3.2,[9,4,5],4]\n",
        "\n",
        "alist[2][2]"
      ],
      "execution_count": null,
      "outputs": [
        {
          "output_type": "execute_result",
          "data": {
            "text/plain": [
              "5"
            ]
          },
          "metadata": {
            "tags": []
          },
          "execution_count": 4
        }
      ]
    },
    {
      "cell_type": "code",
      "metadata": {
        "colab": {
          "base_uri": "https://localhost:8080/",
          "height": 37
        },
        "id": "Er_qXvOJO967",
        "outputId": "2d8092ee-8f0d-4534-fee3-31c15634b006"
      },
      "source": [
        "# 2) Exercise - Get the attribute of \"Penguin\" in the follow list \n",
        "\n",
        "listlist=[4,'hi',[5,4,3],'yo',{'Squirrel':'Cute', 'Penguin':'Yummy'}]\n",
        "\n",
        "listlist[4]['Penguin']"
      ],
      "execution_count": null,
      "outputs": [
        {
          "output_type": "execute_result",
          "data": {
            "application/vnd.google.colaboratory.intrinsic+json": {
              "type": "string"
            },
            "text/plain": [
              "'Yummy'"
            ]
          },
          "metadata": {
            "tags": []
          },
          "execution_count": 8
        }
      ]
    },
    {
      "cell_type": "code",
      "metadata": {
        "id": "whytON61SQEg",
        "colab": {
          "base_uri": "https://localhost:8080/",
          "height": 37
        },
        "outputId": "c5c36276-c311-415b-d9c8-8891d832b4a5"
      },
      "source": [
        "# 3) Exercise - Write 'Mike is a nice guy\" from the follow text \n",
        "\n",
        "text = '345dfyug ecin a si ekiM 93845d'\n",
        "\n",
        "mikelist = text\n",
        "\n",
        "mikelist[-8:-26:-1]"
      ],
      "execution_count": 12,
      "outputs": [
        {
          "output_type": "execute_result",
          "data": {
            "application/vnd.google.colaboratory.intrinsic+json": {
              "type": "string"
            },
            "text/plain": [
              "'Mike is a nice guy'"
            ]
          },
          "metadata": {
            "tags": []
          },
          "execution_count": 12
        }
      ]
    }
  ]
}