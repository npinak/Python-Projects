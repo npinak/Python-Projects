{
 "metadata": {
  "language_info": {
   "codemirror_mode": {
    "name": "ipython",
    "version": 3
   },
   "file_extension": ".py",
   "mimetype": "text/x-python",
   "name": "python",
   "nbconvert_exporter": "python",
   "pygments_lexer": "ipython3",
   "version": "3.9.6"
  },
  "orig_nbformat": 4,
  "kernelspec": {
   "name": "python3",
   "display_name": "Python 3.9.6 64-bit"
  },
  "interpreter": {
   "hash": "7812ea015bdcee6f23a998adcdd2ef97c151c0c241b7b7070987d9313e41299d"
  }
 },
 "nbformat": 4,
 "nbformat_minor": 2,
 "cells": [
  {
   "cell_type": "code",
   "execution_count": 2,
   "metadata": {},
   "outputs": [
    {
     "output_type": "stream",
     "name": "stdout",
     "text": [
      "2.0\n"
     ]
    }
   ],
   "source": [
    "## Mean Function ##\n",
    "\n",
    "def mean(mylist):\n",
    "    the_mean = sum(mylist)/len(mylist)\n",
    "    return the_mean\n",
    "\n",
    "print(mean([1,2,3]))\n"
   ]
  },
  {
   "cell_type": "code",
   "execution_count": 3,
   "metadata": {},
   "outputs": [
    {
     "output_type": "stream",
     "name": "stdout",
     "text": [
      "20\n"
     ]
    }
   ],
   "source": [
    "## Function with Multiple Arguments ##\n",
    "\n",
    "def area(a,b):\n",
    "    return a*b\n",
    "\n",
    "print(area(4,5))\n"
   ]
  },
  {
   "source": [
    "# Arbitary number of arguments\n",
    "def mean(*args):\n",
    "    return args"
   ],
   "cell_type": "code",
   "metadata": {},
   "execution_count": null,
   "outputs": []
  },
  {
   "cell_type": "code",
   "execution_count": null,
   "metadata": {},
   "outputs": [],
   "source": [
    "# Arbitary number of keyword arguments\n",
    "def mean(**kwargs):\n",
    "    return kwargs"
   ]
  }
 ]
}