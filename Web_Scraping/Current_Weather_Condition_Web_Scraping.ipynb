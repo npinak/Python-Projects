{
  "nbformat": 4,
  "nbformat_minor": 0,
  "metadata": {
    "colab": {
      "name": "Current-Weather-Condition_Web-Scraping.ipynb",
      "provenance": [],
      "collapsed_sections": []
    },
    "kernelspec": {
      "name": "python3",
      "display_name": "Python 3"
    },
    "language_info": {
      "name": "python"
    }
  },
  "cells": [
    {
      "cell_type": "code",
      "metadata": {
        "id": "TmQAOeKfYrP8"
      },
      "source": [
        "# Find the following: in San Francisco \n",
        "\n",
        "# Current Humidity\t\n",
        "# Current Wind Speed\t\n",
        "# Current Barometer\t\n",
        "# Current Dewpoint\t\n",
        "# Current Visibility\t\n",
        "# Current Last update\t\n",
        "# Current Temperature fahrenheit and celcius"
      ],
      "execution_count": 98,
      "outputs": []
    },
    {
      "cell_type": "code",
      "metadata": {
        "id": "57piOWDRZ8UU"
      },
      "source": [
        "import requests\n",
        "from bs4 import BeautifulSoup\n",
        "import pandas as pd"
      ],
      "execution_count": 99,
      "outputs": []
    },
    {
      "cell_type": "code",
      "metadata": {
        "id": "kMyVyaYJZ5ka"
      },
      "source": [
        "page = requests.get(\"https://forecast.weather.gov/MapClick.php?lat=37.7772&lon=-122.4168\")"
      ],
      "execution_count": 100,
      "outputs": []
    },
    {
      "cell_type": "code",
      "metadata": {
        "id": "FDo-8m-VaIcY"
      },
      "source": [
        "soup = BeautifulSoup(page.content, 'html.parser')"
      ],
      "execution_count": 101,
      "outputs": []
    },
    {
      "cell_type": "code",
      "metadata": {
        "id": "e6LtcM35ag0S"
      },
      "source": [
        "current_conditions = soup.find(id=\"current-conditions\")"
      ],
      "execution_count": 102,
      "outputs": []
    },
    {
      "cell_type": "code",
      "metadata": {
        "id": "SCV-sOkMaxvY"
      },
      "source": [
        "condition_items = current_conditions.find(id=\"current_conditions-summary\")"
      ],
      "execution_count": 103,
      "outputs": []
    },
    {
      "cell_type": "code",
      "metadata": {
        "id": "6bewj17tlB88"
      },
      "source": [
        "temp_f = condition_items.find(class_=\"myforecast-current-lrg\").get_text() # Current Temperature fahrenheit "
      ],
      "execution_count": 104,
      "outputs": []
    },
    {
      "cell_type": "code",
      "metadata": {
        "id": "4jN2jLXBmV4i"
      },
      "source": [
        "temp_c = condition_items.find(class_=\"myforecast-current-sm\").get_text() # and celcius"
      ],
      "execution_count": 105,
      "outputs": []
    },
    {
      "cell_type": "code",
      "metadata": {
        "id": "d-JW7Ul4mgXN"
      },
      "source": [
        "detailed_conditions = current_conditions.find(id=\"current_conditions_detail\") "
      ],
      "execution_count": 106,
      "outputs": []
    },
    {
      "cell_type": "code",
      "metadata": {
        "id": "RYCycfbEpAgT"
      },
      "source": [
        "table = detailed_conditions.find_all('table')"
      ],
      "execution_count": 107,
      "outputs": []
    },
    {
      "cell_type": "code",
      "metadata": {
        "colab": {
          "base_uri": "https://localhost:8080/"
        },
        "id": "QaULs3xMpYR1",
        "outputId": "edf235fb-7436-49de-b50c-ae094bf31fca"
      },
      "source": [
        "print(table)"
      ],
      "execution_count": 108,
      "outputs": [
        {
          "output_type": "stream",
          "text": [
            "[<table>\n",
            "<tr>\n",
            "<td class=\"text-right\"><b>Humidity</b></td>\n",
            "<td>94%</td>\n",
            "</tr>\n",
            "<tr>\n",
            "<td class=\"text-right\"><b>Wind Speed</b></td>\n",
            "<td>NA NA MPH</td>\n",
            "</tr>\n",
            "<tr>\n",
            "<td class=\"text-right\"><b>Barometer</b></td>\n",
            "<td>NA</td>\n",
            "</tr>\n",
            "<tr>\n",
            "<td class=\"text-right\"><b>Dewpoint</b></td>\n",
            "<td>54°F (12°C)</td>\n",
            "</tr>\n",
            "<tr>\n",
            "<td class=\"text-right\"><b>Visibility</b></td>\n",
            "<td>NA</td>\n",
            "</tr>\n",
            "<tr>\n",
            "<td class=\"text-right\"><b>Last update</b></td>\n",
            "<td>\n",
            "                02 Jul 07:43 AM PDT            </td>\n",
            "</tr>\n",
            "</table>]\n"
          ],
          "name": "stdout"
        }
      ]
    },
    {
      "cell_type": "code",
      "metadata": {
        "colab": {
          "base_uri": "https://localhost:8080/",
          "height": 297
        },
        "id": "5OdoyeDm6iml",
        "outputId": "623583ea-203e-4421-bd2c-c24a7d324a5e"
      },
      "source": [
        "df = pd.read_html(str(table))[0]\n",
        "\n",
        "fahrenheit_new_row = ['fahrenheit ',temp_f]\n",
        "celcius_new_row = ['celcius',temp_c]\n",
        "df.loc[6]= fahrenheit_new_row\n",
        "df.loc[7]= celcius_new_row\n",
        "df"
      ],
      "execution_count": 145,
      "outputs": [
        {
          "output_type": "execute_result",
          "data": {
            "text/html": [
              "<div>\n",
              "<style scoped>\n",
              "    .dataframe tbody tr th:only-of-type {\n",
              "        vertical-align: middle;\n",
              "    }\n",
              "\n",
              "    .dataframe tbody tr th {\n",
              "        vertical-align: top;\n",
              "    }\n",
              "\n",
              "    .dataframe thead th {\n",
              "        text-align: right;\n",
              "    }\n",
              "</style>\n",
              "<table border=\"1\" class=\"dataframe\">\n",
              "  <thead>\n",
              "    <tr style=\"text-align: right;\">\n",
              "      <th></th>\n",
              "      <th>0</th>\n",
              "      <th>1</th>\n",
              "    </tr>\n",
              "  </thead>\n",
              "  <tbody>\n",
              "    <tr>\n",
              "      <th>0</th>\n",
              "      <td>Humidity</td>\n",
              "      <td>94%</td>\n",
              "    </tr>\n",
              "    <tr>\n",
              "      <th>1</th>\n",
              "      <td>Wind Speed</td>\n",
              "      <td>NA NA MPH</td>\n",
              "    </tr>\n",
              "    <tr>\n",
              "      <th>2</th>\n",
              "      <td>Barometer</td>\n",
              "      <td>NaN</td>\n",
              "    </tr>\n",
              "    <tr>\n",
              "      <th>3</th>\n",
              "      <td>Dewpoint</td>\n",
              "      <td>54°F (12°C)</td>\n",
              "    </tr>\n",
              "    <tr>\n",
              "      <th>4</th>\n",
              "      <td>Visibility</td>\n",
              "      <td>NaN</td>\n",
              "    </tr>\n",
              "    <tr>\n",
              "      <th>5</th>\n",
              "      <td>Last update</td>\n",
              "      <td>02 Jul 07:43 AM PDT</td>\n",
              "    </tr>\n",
              "    <tr>\n",
              "      <th>6</th>\n",
              "      <td>fahrenheit</td>\n",
              "      <td>56°F</td>\n",
              "    </tr>\n",
              "    <tr>\n",
              "      <th>7</th>\n",
              "      <td>celcius</td>\n",
              "      <td>13°C</td>\n",
              "    </tr>\n",
              "  </tbody>\n",
              "</table>\n",
              "</div>"
            ],
            "text/plain": [
              "             0                    1\n",
              "0     Humidity                  94%\n",
              "1   Wind Speed            NA NA MPH\n",
              "2    Barometer                  NaN\n",
              "3     Dewpoint          54°F (12°C)\n",
              "4   Visibility                  NaN\n",
              "5  Last update  02 Jul 07:43 AM PDT\n",
              "6  fahrenheit                  56°F\n",
              "7      celcius                 13°C"
            ]
          },
          "metadata": {
            "tags": []
          },
          "execution_count": 145
        }
      ]
    }
  ]
}