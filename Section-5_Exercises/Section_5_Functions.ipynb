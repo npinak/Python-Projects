{
  "nbformat": 4,
  "nbformat_minor": 0,
  "metadata": {
    "colab": {
      "name": "Section_5_Functions.ipynb",
      "provenance": [],
      "collapsed_sections": []
    },
    "kernelspec": {
      "name": "python3",
      "display_name": "Python 3"
    },
    "language_info": {
      "name": "python"
    }
  },
  "cells": [
    {
      "cell_type": "code",
      "metadata": {
        "colab": {
          "base_uri": "https://localhost:8080/"
        },
        "id": "2NjCMkHsvlln",
        "outputId": "90207de8-c0f6-4bec-a5c6-05f0ff2ffe59"
      },
      "source": [
        "#1) Exercise: compute of average of lst[10,20,30]\n",
        "\n",
        "lst = [10,20,30]\n",
        "\n",
        "avg = sum(lst)/len(lst)\n",
        "\n",
        "print(avg)\n"
      ],
      "execution_count": 4,
      "outputs": [
        {
          "output_type": "stream",
          "text": [
            "20.0\n"
          ],
          "name": "stdout"
        }
      ]
    },
    {
      "cell_type": "code",
      "metadata": {
        "colab": {
          "base_uri": "https://localhost:8080/"
        },
        "id": "SClTzRgKxWBm",
        "outputId": "16d03392-efa7-437f-b533-b34a882511a9"
      },
      "source": [
        "import numpy as np\n",
        "\n",
        "#np.linspace creates linearly spaces numbers between 1 and 8 \n",
        "\n",
        "np.linspace (1,8,20)"
      ],
      "execution_count": 5,
      "outputs": [
        {
          "output_type": "execute_result",
          "data": {
            "text/plain": [
              "array([1.        , 1.36842105, 1.73684211, 2.10526316, 2.47368421,\n",
              "       2.84210526, 3.21052632, 3.57894737, 3.94736842, 4.31578947,\n",
              "       4.68421053, 5.05263158, 5.42105263, 5.78947368, 6.15789474,\n",
              "       6.52631579, 6.89473684, 7.26315789, 7.63157895, 8.        ])"
            ]
          },
          "metadata": {
            "tags": []
          },
          "execution_count": 5
        }
      ]
    },
    {
      "cell_type": "code",
      "metadata": {
        "colab": {
          "base_uri": "https://localhost:8080/",
          "height": 419
        },
        "id": "SGuTro-LyNWI",
        "outputId": "5c07d9da-b4e2-494d-8aa5-abfba2719439"
      },
      "source": [
        "import pandas as pd\n",
        "\n",
        "#create some random numbers\n",
        "\n",
        "var1 = np.random.randn(100)*5 +20\n",
        "var2 = np.random.randn(100)>0\n",
        "\n",
        "labels = ['Temp. (C)', 'Ice Cream Eaten']\n",
        "\n",
        "#create a dictionary \n",
        "D={labels[0]:var1, labels[1]:var2}\n",
        "\n",
        "#import dictionary into pandas dataframe\n",
        "\n",
        "df = pd.DataFrame(data=D)\n",
        "df"
      ],
      "execution_count": 6,
      "outputs": [
        {
          "output_type": "execute_result",
          "data": {
            "text/html": [
              "<div>\n",
              "<style scoped>\n",
              "    .dataframe tbody tr th:only-of-type {\n",
              "        vertical-align: middle;\n",
              "    }\n",
              "\n",
              "    .dataframe tbody tr th {\n",
              "        vertical-align: top;\n",
              "    }\n",
              "\n",
              "    .dataframe thead th {\n",
              "        text-align: right;\n",
              "    }\n",
              "</style>\n",
              "<table border=\"1\" class=\"dataframe\">\n",
              "  <thead>\n",
              "    <tr style=\"text-align: right;\">\n",
              "      <th></th>\n",
              "      <th>Temp. (C)</th>\n",
              "      <th>Ice Cream Eaten</th>\n",
              "    </tr>\n",
              "  </thead>\n",
              "  <tbody>\n",
              "    <tr>\n",
              "      <th>0</th>\n",
              "      <td>22.581863</td>\n",
              "      <td>False</td>\n",
              "    </tr>\n",
              "    <tr>\n",
              "      <th>1</th>\n",
              "      <td>26.385135</td>\n",
              "      <td>False</td>\n",
              "    </tr>\n",
              "    <tr>\n",
              "      <th>2</th>\n",
              "      <td>13.895177</td>\n",
              "      <td>True</td>\n",
              "    </tr>\n",
              "    <tr>\n",
              "      <th>3</th>\n",
              "      <td>16.940646</td>\n",
              "      <td>False</td>\n",
              "    </tr>\n",
              "    <tr>\n",
              "      <th>4</th>\n",
              "      <td>20.095685</td>\n",
              "      <td>False</td>\n",
              "    </tr>\n",
              "    <tr>\n",
              "      <th>...</th>\n",
              "      <td>...</td>\n",
              "      <td>...</td>\n",
              "    </tr>\n",
              "    <tr>\n",
              "      <th>95</th>\n",
              "      <td>14.025532</td>\n",
              "      <td>True</td>\n",
              "    </tr>\n",
              "    <tr>\n",
              "      <th>96</th>\n",
              "      <td>16.470895</td>\n",
              "      <td>False</td>\n",
              "    </tr>\n",
              "    <tr>\n",
              "      <th>97</th>\n",
              "      <td>22.409439</td>\n",
              "      <td>True</td>\n",
              "    </tr>\n",
              "    <tr>\n",
              "      <th>98</th>\n",
              "      <td>21.485821</td>\n",
              "      <td>False</td>\n",
              "    </tr>\n",
              "    <tr>\n",
              "      <th>99</th>\n",
              "      <td>24.872880</td>\n",
              "      <td>False</td>\n",
              "    </tr>\n",
              "  </tbody>\n",
              "</table>\n",
              "<p>100 rows × 2 columns</p>\n",
              "</div>"
            ],
            "text/plain": [
              "    Temp. (C)  Ice Cream Eaten\n",
              "0   22.581863            False\n",
              "1   26.385135            False\n",
              "2   13.895177             True\n",
              "3   16.940646            False\n",
              "4   20.095685            False\n",
              "..        ...              ...\n",
              "95  14.025532             True\n",
              "96  16.470895            False\n",
              "97  22.409439             True\n",
              "98  21.485821            False\n",
              "99  24.872880            False\n",
              "\n",
              "[100 rows x 2 columns]"
            ]
          },
          "metadata": {
            "tags": []
          },
          "execution_count": 6
        }
      ]
    },
    {
      "cell_type": "code",
      "metadata": {
        "id": "-X8AYtXM39Ra",
        "colab": {
          "base_uri": "https://localhost:8080/"
        },
        "outputId": "63a2ca62-eb26-4b19-db60-b8e914831721"
      },
      "source": [
        "# 2) Exercise - create a pandas dataframe with three variables:\n",
        "# 1. integers from 0 to 10 \n",
        "# 2. their square \n",
        "# 3. their log \n",
        "\n",
        "#Create Integers\n",
        "A = np.linspace (0,10,11)\n",
        "\n",
        "#Add to dataframe\n",
        "df = pd.DataFrame(data=A)\n",
        "\n",
        "print(df)"
      ],
      "execution_count": 15,
      "outputs": [
        {
          "output_type": "stream",
          "text": [
            "       0\n",
            "0    0.0\n",
            "1    1.0\n",
            "2    2.0\n",
            "3    3.0\n",
            "4    4.0\n",
            "5    5.0\n",
            "6    6.0\n",
            "7    7.0\n",
            "8    8.0\n",
            "9    9.0\n",
            "10  10.0\n"
          ],
          "name": "stdout"
        }
      ]
    },
    {
      "cell_type": "code",
      "metadata": {
        "id": "cmalWHABfa1w"
      },
      "source": [
        ""
      ],
      "execution_count": null,
      "outputs": []
    },
    {
      "cell_type": "code",
      "metadata": {
        "colab": {
          "base_uri": "https://localhost:8080/"
        },
        "id": "7zC8mJ5ErfRU",
        "outputId": "d5ae97ce-6f4a-46c7-c564-9bceb6ed808e"
      },
      "source": [
        "#Create Squares\n",
        "df['square'] = df[0]**2\n",
        "df\n",
        "\n",
        "#Create log\n",
        "df['log'] = np.log(df[0])\n",
        "print(df)"
      ],
      "execution_count": 22,
      "outputs": [
        {
          "output_type": "stream",
          "text": [
            "       0  square       log\n",
            "0    0.0     0.0      -inf\n",
            "1    1.0     1.0  0.000000\n",
            "2    2.0     4.0  0.693147\n",
            "3    3.0     9.0  1.098612\n",
            "4    4.0    16.0  1.386294\n",
            "5    5.0    25.0  1.609438\n",
            "6    6.0    36.0  1.791759\n",
            "7    7.0    49.0  1.945910\n",
            "8    8.0    64.0  2.079442\n",
            "9    9.0    81.0  2.197225\n",
            "10  10.0   100.0  2.302585\n"
          ],
          "name": "stdout"
        },
        {
          "output_type": "stream",
          "text": [
            "/usr/local/lib/python3.7/dist-packages/pandas/core/series.py:726: RuntimeWarning: divide by zero encountered in log\n",
            "  result = getattr(ufunc, method)(*inputs, **kwargs)\n"
          ],
          "name": "stderr"
        }
      ]
    },
    {
      "cell_type": "code",
      "metadata": {
        "id": "FaPJf0DugaO2"
      },
      "source": [
        "#Rename Column\n",
        "df = df.rename(columns={ 0 : 'Integer'})"
      ],
      "execution_count": 23,
      "outputs": []
    },
    {
      "cell_type": "code",
      "metadata": {
        "colab": {
          "base_uri": "https://localhost:8080/",
          "height": 390
        },
        "id": "t3KIT0xwjL6i",
        "outputId": "3bd21a7f-5016-41ae-c1a1-0eb4e6140365"
      },
      "source": [
        "df"
      ],
      "execution_count": 24,
      "outputs": [
        {
          "output_type": "execute_result",
          "data": {
            "text/html": [
              "<div>\n",
              "<style scoped>\n",
              "    .dataframe tbody tr th:only-of-type {\n",
              "        vertical-align: middle;\n",
              "    }\n",
              "\n",
              "    .dataframe tbody tr th {\n",
              "        vertical-align: top;\n",
              "    }\n",
              "\n",
              "    .dataframe thead th {\n",
              "        text-align: right;\n",
              "    }\n",
              "</style>\n",
              "<table border=\"1\" class=\"dataframe\">\n",
              "  <thead>\n",
              "    <tr style=\"text-align: right;\">\n",
              "      <th></th>\n",
              "      <th>Integer</th>\n",
              "      <th>square</th>\n",
              "      <th>log</th>\n",
              "    </tr>\n",
              "  </thead>\n",
              "  <tbody>\n",
              "    <tr>\n",
              "      <th>0</th>\n",
              "      <td>0.0</td>\n",
              "      <td>0.0</td>\n",
              "      <td>-inf</td>\n",
              "    </tr>\n",
              "    <tr>\n",
              "      <th>1</th>\n",
              "      <td>1.0</td>\n",
              "      <td>1.0</td>\n",
              "      <td>0.000000</td>\n",
              "    </tr>\n",
              "    <tr>\n",
              "      <th>2</th>\n",
              "      <td>2.0</td>\n",
              "      <td>4.0</td>\n",
              "      <td>0.693147</td>\n",
              "    </tr>\n",
              "    <tr>\n",
              "      <th>3</th>\n",
              "      <td>3.0</td>\n",
              "      <td>9.0</td>\n",
              "      <td>1.098612</td>\n",
              "    </tr>\n",
              "    <tr>\n",
              "      <th>4</th>\n",
              "      <td>4.0</td>\n",
              "      <td>16.0</td>\n",
              "      <td>1.386294</td>\n",
              "    </tr>\n",
              "    <tr>\n",
              "      <th>5</th>\n",
              "      <td>5.0</td>\n",
              "      <td>25.0</td>\n",
              "      <td>1.609438</td>\n",
              "    </tr>\n",
              "    <tr>\n",
              "      <th>6</th>\n",
              "      <td>6.0</td>\n",
              "      <td>36.0</td>\n",
              "      <td>1.791759</td>\n",
              "    </tr>\n",
              "    <tr>\n",
              "      <th>7</th>\n",
              "      <td>7.0</td>\n",
              "      <td>49.0</td>\n",
              "      <td>1.945910</td>\n",
              "    </tr>\n",
              "    <tr>\n",
              "      <th>8</th>\n",
              "      <td>8.0</td>\n",
              "      <td>64.0</td>\n",
              "      <td>2.079442</td>\n",
              "    </tr>\n",
              "    <tr>\n",
              "      <th>9</th>\n",
              "      <td>9.0</td>\n",
              "      <td>81.0</td>\n",
              "      <td>2.197225</td>\n",
              "    </tr>\n",
              "    <tr>\n",
              "      <th>10</th>\n",
              "      <td>10.0</td>\n",
              "      <td>100.0</td>\n",
              "      <td>2.302585</td>\n",
              "    </tr>\n",
              "  </tbody>\n",
              "</table>\n",
              "</div>"
            ],
            "text/plain": [
              "    Integer  square       log\n",
              "0       0.0     0.0      -inf\n",
              "1       1.0     1.0  0.000000\n",
              "2       2.0     4.0  0.693147\n",
              "3       3.0     9.0  1.098612\n",
              "4       4.0    16.0  1.386294\n",
              "5       5.0    25.0  1.609438\n",
              "6       6.0    36.0  1.791759\n",
              "7       7.0    49.0  1.945910\n",
              "8       8.0    64.0  2.079442\n",
              "9       9.0    81.0  2.197225\n",
              "10     10.0   100.0  2.302585"
            ]
          },
          "metadata": {
            "tags": []
          },
          "execution_count": 24
        }
      ]
    },
    {
      "cell_type": "code",
      "metadata": {
        "colab": {
          "base_uri": "https://localhost:8080/"
        },
        "id": "QBraZA0LgYhk",
        "outputId": "616d96bf-5b11-4e93-8432-159fafd2b09b"
      },
      "source": [
        "#Creating your own functions\n",
        "#Use def\n",
        "\n",
        "def awesomefunction():\n",
        "  print(1+1)\n",
        "\n",
        "\n",
        "awesomefunction() #to call a function, you have to use parentheses at the end\n",
        "\n",
        "def superawesomefunction(input1, input2):\n",
        "  return input1 + input2\n",
        "\n",
        "superawesomefunction(8,9)\n",
        "\n",
        "\n",
        "\n",
        "\n",
        "\n"
      ],
      "execution_count": 34,
      "outputs": [
        {
          "output_type": "stream",
          "text": [
            "2\n"
          ],
          "name": "stdout"
        },
        {
          "output_type": "execute_result",
          "data": {
            "text/plain": [
              "17"
            ]
          },
          "metadata": {
            "tags": []
          },
          "execution_count": 34
        }
      ]
    },
    {
      "cell_type": "code",
      "metadata": {
        "colab": {
          "base_uri": "https://localhost:8080/"
        },
        "id": "veiBa730q2PC",
        "outputId": "6143b39c-0a96-40a0-994a-d9e119d1a926"
      },
      "source": [
        "#lambda functions\n",
        "littlefun = lambda x: (x**2) -1 \n",
        "\n",
        "littlefun (4)"
      ],
      "execution_count": 1,
      "outputs": [
        {
          "output_type": "execute_result",
          "data": {
            "text/plain": [
              "15"
            ]
          },
          "metadata": {
            "tags": []
          },
          "execution_count": 1
        }
      ]
    },
    {
      "cell_type": "code",
      "metadata": {
        "colab": {
          "base_uri": "https://localhost:8080/"
        },
        "id": "vfRqa8ulOkq-",
        "outputId": "3cbe3a24-22a6-4a9d-8fd0-dc25d6811644"
      },
      "source": [
        "# 3) Exercise: Create a function that computes a factorial of an integer. i.e 5! = 5*4*3*2*1\n",
        "# import math module, find the factorial function, and check the difference between your function and the math module function\n",
        "\n",
        "import numpy as np\n",
        "import math as math\n",
        "#Input a number \n",
        "num = int(input('Enter a number '))\n",
        "\n",
        "#Create function\n",
        "def factorial ():\n",
        "\n",
        "  mult = np.linspace(1,num,num)\n",
        "  product = np.product(mult)\n",
        "  print(str(num) + ' factorial is ' + str(product))\n",
        "  return product , mult\n",
        "\n",
        "factorial()\n",
        "\n",
        "#Use math module function\n",
        "\n",
        "math = math.factorial(num)\n",
        "print('Using math function, it is ' + str(math))\n",
        "#Compare the two outputs\n",
        "\n",
        "#It looks like the function outputs a float and math outputs an integer\n",
        "\n"
      ],
      "execution_count": 9,
      "outputs": [
        {
          "output_type": "stream",
          "text": [
            "Enter a number 7\n",
            "7 factorial is 5040.0\n",
            "Using math function, it is 5040\n"
          ],
          "name": "stdout"
        }
      ]
    },
    {
      "cell_type": "code",
      "metadata": {
        "colab": {
          "base_uri": "https://localhost:8080/"
        },
        "id": "GJPlFHIfaqaA",
        "outputId": "7a4f19f6-06d2-4990-ec0b-ebcbfec8957a"
      },
      "source": [
        "# Exercise Write a function that flips a coin n times and reports the average\n",
        "import numpy as np\n",
        "\n",
        "flips = int(input(\"Enter number of times you want to flip a coin \"))\n",
        "\n",
        "def coinflips():\n",
        "  pCoinflips = np.mean( np.random.randn(flips)>0)\n",
        "  print(str(flips) + ' coin flips had ' + str(100*pCoinflips) + ' % Heads')\n",
        "\n",
        "coinflips()\n",
        "\n",
        "\n"
      ],
      "execution_count": 14,
      "outputs": [
        {
          "output_type": "stream",
          "text": [
            "Enter number of times you want to flip a coin 90000000\n",
            "90000000 coin flips had 50.00212555555555 % Heads\n"
          ],
          "name": "stdout"
        }
      ]
    },
    {
      "cell_type": "code",
      "metadata": {
        "id": "kt7SmGKhafQL"
      },
      "source": [
        "#OOP (Classes)\n",
        "\n",
        "class Experiment (object):\n",
        "  #constructor method\n",
        "  "
      ],
      "execution_count": null,
      "outputs": []
    },
    {
      "cell_type": "code",
      "metadata": {
        "id": "3WcPtmsDaZ0A"
      },
      "source": [
        ""
      ],
      "execution_count": null,
      "outputs": []
    },
    {
      "cell_type": "code",
      "metadata": {
        "id": "oLAsLuvkV7V3"
      },
      "source": [
        ""
      ],
      "execution_count": null,
      "outputs": []
    }
  ]
}