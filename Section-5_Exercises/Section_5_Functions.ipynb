{
  "nbformat": 4,
  "nbformat_minor": 0,
  "metadata": {
    "colab": {
      "name": "Section_5_Functions.ipynb",
      "provenance": []
    },
    "kernelspec": {
      "name": "python3",
      "display_name": "Python 3"
    },
    "language_info": {
      "name": "python"
    }
  },
  "cells": [
    {
      "cell_type": "code",
      "metadata": {
        "colab": {
          "base_uri": "https://localhost:8080/"
        },
        "id": "2NjCMkHsvlln",
        "outputId": "24db3315-3cf0-4881-fa47-ec135e82b48a"
      },
      "source": [
        "#1) Exercise: compute of average of lst[10,20,30]\n",
        "\n",
        "lst = [10,20,30]\n",
        "\n",
        "avg = sum(lst)/len(lst)\n",
        "\n",
        "print(avg)\n"
      ],
      "execution_count": 5,
      "outputs": [
        {
          "output_type": "stream",
          "text": [
            "20.0\n"
          ],
          "name": "stdout"
        }
      ]
    },
    {
      "cell_type": "code",
      "metadata": {
        "colab": {
          "base_uri": "https://localhost:8080/"
        },
        "id": "SClTzRgKxWBm",
        "outputId": "81a4ddaa-3e74-440c-e345-6f99e83c045d"
      },
      "source": [
        "import numpy as np\n",
        "\n",
        "#np.linspace creates linearly spaces numbers between 1 and 8 \n",
        "\n",
        "np.linspace (1,8,20)"
      ],
      "execution_count": 9,
      "outputs": [
        {
          "output_type": "execute_result",
          "data": {
            "text/plain": [
              "array([1.        , 1.36842105, 1.73684211, 2.10526316, 2.47368421,\n",
              "       2.84210526, 3.21052632, 3.57894737, 3.94736842, 4.31578947,\n",
              "       4.68421053, 5.05263158, 5.42105263, 5.78947368, 6.15789474,\n",
              "       6.52631579, 6.89473684, 7.26315789, 7.63157895, 8.        ])"
            ]
          },
          "metadata": {
            "tags": []
          },
          "execution_count": 9
        }
      ]
    },
    {
      "cell_type": "code",
      "metadata": {
        "colab": {
          "base_uri": "https://localhost:8080/",
          "height": 419
        },
        "id": "SGuTro-LyNWI",
        "outputId": "987b8c83-82b6-42ed-c373-a09af64ac00b"
      },
      "source": [
        "import pandas as pd\n",
        "\n",
        "#create some random numbers\n",
        "\n",
        "var1 = np.random.randn(100)*5 +20\n",
        "var2 = np.random.randn(100)>0\n",
        "\n",
        "labels = ['Temp. (C)', 'Ice Cream Eaten']\n",
        "\n",
        "#create a dictionary \n",
        "D={labels[0]:var1, labels[1]:var2}\n",
        "\n",
        "#import dictionary into pandas dataframe\n",
        "\n",
        "df = pd.DataFrame(data=D)\n",
        "df"
      ],
      "execution_count": 18,
      "outputs": [
        {
          "output_type": "execute_result",
          "data": {
            "text/html": [
              "<div>\n",
              "<style scoped>\n",
              "    .dataframe tbody tr th:only-of-type {\n",
              "        vertical-align: middle;\n",
              "    }\n",
              "\n",
              "    .dataframe tbody tr th {\n",
              "        vertical-align: top;\n",
              "    }\n",
              "\n",
              "    .dataframe thead th {\n",
              "        text-align: right;\n",
              "    }\n",
              "</style>\n",
              "<table border=\"1\" class=\"dataframe\">\n",
              "  <thead>\n",
              "    <tr style=\"text-align: right;\">\n",
              "      <th></th>\n",
              "      <th>Temp. (C)</th>\n",
              "      <th>Ice Cream Eaten</th>\n",
              "    </tr>\n",
              "  </thead>\n",
              "  <tbody>\n",
              "    <tr>\n",
              "      <th>0</th>\n",
              "      <td>22.587092</td>\n",
              "      <td>True</td>\n",
              "    </tr>\n",
              "    <tr>\n",
              "      <th>1</th>\n",
              "      <td>18.945545</td>\n",
              "      <td>True</td>\n",
              "    </tr>\n",
              "    <tr>\n",
              "      <th>2</th>\n",
              "      <td>16.882800</td>\n",
              "      <td>False</td>\n",
              "    </tr>\n",
              "    <tr>\n",
              "      <th>3</th>\n",
              "      <td>19.169566</td>\n",
              "      <td>True</td>\n",
              "    </tr>\n",
              "    <tr>\n",
              "      <th>4</th>\n",
              "      <td>11.807306</td>\n",
              "      <td>True</td>\n",
              "    </tr>\n",
              "    <tr>\n",
              "      <th>...</th>\n",
              "      <td>...</td>\n",
              "      <td>...</td>\n",
              "    </tr>\n",
              "    <tr>\n",
              "      <th>95</th>\n",
              "      <td>12.511568</td>\n",
              "      <td>True</td>\n",
              "    </tr>\n",
              "    <tr>\n",
              "      <th>96</th>\n",
              "      <td>10.921001</td>\n",
              "      <td>False</td>\n",
              "    </tr>\n",
              "    <tr>\n",
              "      <th>97</th>\n",
              "      <td>23.555457</td>\n",
              "      <td>False</td>\n",
              "    </tr>\n",
              "    <tr>\n",
              "      <th>98</th>\n",
              "      <td>25.599865</td>\n",
              "      <td>False</td>\n",
              "    </tr>\n",
              "    <tr>\n",
              "      <th>99</th>\n",
              "      <td>21.721393</td>\n",
              "      <td>False</td>\n",
              "    </tr>\n",
              "  </tbody>\n",
              "</table>\n",
              "<p>100 rows × 2 columns</p>\n",
              "</div>"
            ],
            "text/plain": [
              "    Temp. (C)  Ice Cream Eaten\n",
              "0   22.587092             True\n",
              "1   18.945545             True\n",
              "2   16.882800            False\n",
              "3   19.169566             True\n",
              "4   11.807306             True\n",
              "..        ...              ...\n",
              "95  12.511568             True\n",
              "96  10.921001            False\n",
              "97  23.555457            False\n",
              "98  25.599865            False\n",
              "99  21.721393            False\n",
              "\n",
              "[100 rows x 2 columns]"
            ]
          },
          "metadata": {
            "tags": []
          },
          "execution_count": 18
        }
      ]
    },
    {
      "cell_type": "code",
      "metadata": {
        "id": "-X8AYtXM39Ra"
      },
      "source": [
        "# 2) Exercise - create a pandas dataframe with three variables:\n",
        "# 1. integers from 0 to 10 \n",
        "# 2. their square \n",
        "# 3. their log "
      ],
      "execution_count": null,
      "outputs": []
    }
  ]
}