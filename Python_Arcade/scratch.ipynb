{
 "cells": [
  {
   "cell_type": "code",
   "execution_count": 132,
   "metadata": {},
   "outputs": [],
   "source": [
    "import numpy as np"
   ]
  },
  {
   "cell_type": "code",
   "execution_count": 133,
   "metadata": {},
   "outputs": [
    {
     "name": "stdout",
     "output_type": "stream",
     "text": [
      "[[0, 0, 0, 0, 0, 0, 0, 0, 0, 0], [0, 0, 0, 0, 0, 0, 0, 0, 0, 0], [0, 0, 0, 0, 0, 0, 0, 0, 0, 0], [0, 0, 0, 0, 0, 0, 0, 0, 0, 0], [0, 0, 0, 0, 0, 0, 0, 0, 0, 0], [0, 0, 0, 0, 0, 0, 0, 0, 0, 0], [0, 0, 0, 0, 0, 0, 0, 0, 0, 0], [0, 0, 0, 0, 0, 0, 0, 0, 0, 0], [0, 0, 0, 0, 0, 0, 0, 0, 0, 0], [0, 0, 0, 0, 0, 0, 0, 0, 0, 0]]\n"
     ]
    }
   ],
   "source": [
    "grid = []\n",
    "for row in range(10):\n",
    "  grid.append([])\n",
    "  for column in range(10):\n",
    "    grid[row].append(0)\n",
    "\n",
    "print(grid)"
   ]
  },
  {
   "cell_type": "code",
   "execution_count": 134,
   "metadata": {},
   "outputs": [],
   "source": [
    "grid[0][0] = 1\n",
    "grid[0][1] = 1\n",
    "\n",
    "grid[0][4] = 1\n",
    "grid[0][5] = 1\n",
    "grid[0][6] = 1\n",
    "\n",
    "grid[0][8] = 1\n",
    "#grid[0][3] = 1"
   ]
  },
  {
   "cell_type": "code",
   "execution_count": 135,
   "metadata": {},
   "outputs": [
    {
     "name": "stdout",
     "output_type": "stream",
     "text": [
      "2.0\n",
      "5.0\n"
     ]
    }
   ],
   "source": [
    "''' Counts the number of continous cells selected '''\n",
    "\n",
    "continous_count_list = np.zeros(10)\n",
    "\n",
    "for row in range(10):\n",
    "  continous_count = 0\n",
    "  for column in range(10):\n",
    "    if grid[row][column] == 1:\n",
    "      continous_count += 1\n",
    "    elif grid[row][column] == 0:\n",
    "      if continous_count > 1:\n",
    "        continous_count_list[row] = continous_count_list[row] + continous_count\n",
    "        print(continous_count_list[row]) \n",
    "        continous_count = 0\n",
    "      else:\n",
    "        continous_count = 0\n",
    "\n",
    "    \n"
   ]
  },
  {
   "cell_type": "code",
   "execution_count": 136,
   "metadata": {},
   "outputs": [],
   "source": [
    "''' Counts the number of cells selecte in each row and column '''\n",
    "\n",
    "total_count = 0\n",
    "row_count_list = []\n",
    "column_count = np.zeros(10)\n",
    "\n",
    "for row in range(10):\n",
    "  row_count = 0 \n",
    "  continous_count = 0\n",
    "  for column in range(10):\n",
    "    if grid[row][column] == 1:\n",
    "      total_count += 1\n",
    "      row_count += 1\n",
    "      column_count[column] = column_count[column] + 1\n",
    "  row_count_list.append( f\"Row {row} has {row_count} cells selected\")\n",
    "\n",
    "\n"
   ]
  },
  {
   "cell_type": "code",
   "execution_count": 137,
   "metadata": {},
   "outputs": [
    {
     "name": "stdout",
     "output_type": "stream",
     "text": [
      "There are a total of 6 cells selected in the entire grid\n",
      "There are 5 cells selected continously in row 0.\n",
      "Row 0 has 6 cells selected\n",
      "Row 1 has 0 cells selected\n",
      "Row 2 has 0 cells selected\n",
      "Row 3 has 0 cells selected\n",
      "Row 4 has 0 cells selected\n",
      "Row 5 has 0 cells selected\n",
      "Row 6 has 0 cells selected\n",
      "Row 7 has 0 cells selected\n",
      "Row 8 has 0 cells selected\n",
      "Row 9 has 0 cells selected\n",
      "Column 0 has 1 cells selected\n",
      "Column 1 has 1 cells selected\n",
      "Column 2 has 0 cells selected\n",
      "Column 3 has 0 cells selected\n",
      "Column 4 has 1 cells selected\n",
      "Column 5 has 1 cells selected\n",
      "Column 6 has 1 cells selected\n",
      "Column 7 has 0 cells selected\n",
      "Column 8 has 1 cells selected\n",
      "Column 9 has 0 cells selected\n"
     ]
    }
   ],
   "source": [
    "print(f\"There are a total of {total_count} cells selected in the entire grid\")\n",
    "\n",
    "for row in range(len(row_count_list)):\n",
    "  if continous_count_list[row] > 0:\n",
    "    print(f\"There are {int(continous_count_list[row])} cells selected continously in row {row}.\")\n",
    "  print(row_count_list[row])\n",
    "\n",
    "for column in range(len(column_count)):\n",
    "  print(f\"Column {column} has {int(column_count[column])} cells selected\")"
   ]
  },
  {
   "cell_type": "code",
   "execution_count": null,
   "metadata": {},
   "outputs": [],
   "source": []
  }
 ],
 "metadata": {
  "interpreter": {
   "hash": "aee8b7b246df8f9039afb4144a1f6fd8d2ca17a180786b69acc140d282b71a49"
  },
  "kernelspec": {
   "display_name": "Python 3.9.6 64-bit",
   "language": "python",
   "name": "python3"
  },
  "language_info": {
   "codemirror_mode": {
    "name": "ipython",
    "version": 3
   },
   "file_extension": ".py",
   "mimetype": "text/x-python",
   "name": "python",
   "nbconvert_exporter": "python",
   "pygments_lexer": "ipython3",
   "version": "3.9.6"
  },
  "orig_nbformat": 4
 },
 "nbformat": 4,
 "nbformat_minor": 2
}
