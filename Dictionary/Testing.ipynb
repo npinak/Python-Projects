{
 "metadata": {
  "language_info": {
   "codemirror_mode": {
    "name": "ipython",
    "version": 3
   },
   "file_extension": ".py",
   "mimetype": "text/x-python",
   "name": "python",
   "nbconvert_exporter": "python",
   "pygments_lexer": "ipython3",
   "version": "3.8.2"
  },
  "orig_nbformat": 4,
  "kernelspec": {
   "name": "python3",
   "display_name": "Python 3.8.2 64-bit"
  },
  "interpreter": {
   "hash": "31f2aee4e71d21fbe5cf8b01ff0e069b9275f58929596ceb00d14d90e3e16cd6"
  }
 },
 "nbformat": 4,
 "nbformat_minor": 2,
 "cells": [
  {
   "cell_type": "code",
   "execution_count": 2,
   "metadata": {},
   "outputs": [],
   "source": [
    "import json\n",
    "data = json.load(open(\"/Users/pinaknayak/Documents/Github/Python-Projects/Dictionary/data.json\"))"
   ]
  },
  {
   "cell_type": "code",
   "execution_count": 2,
   "metadata": {},
   "outputs": [],
   "source": [
    "what_happens = \"pole\" in data"
   ]
  },
  {
   "cell_type": "code",
   "execution_count": 3,
   "metadata": {},
   "outputs": [
    {
     "output_type": "stream",
     "name": "stdout",
     "text": [
      "True\n"
     ]
    }
   ],
   "source": [
    "print(what_happens)"
   ]
  },
  {
   "cell_type": "code",
   "execution_count": 4,
   "metadata": {},
   "outputs": [],
   "source": [
    "# Check for similar words\n",
    "import difflib\n",
    "word_input = input(\"Please enter a word: \")"
   ]
  },
  {
   "cell_type": "code",
   "execution_count": 5,
   "metadata": {},
   "outputs": [
    {
     "output_type": "stream",
     "name": "stdout",
     "text": [
      "Rainn\n"
     ]
    }
   ],
   "source": [
    "print(word_input)"
   ]
  },
  {
   "cell_type": "code",
   "execution_count": 6,
   "metadata": {},
   "outputs": [],
   "source": [
    "close_match = difflib.get_close_matches(word_input, data)"
   ]
  },
  {
   "cell_type": "code",
   "execution_count": 7,
   "metadata": {},
   "outputs": [
    {
     "output_type": "stream",
     "name": "stdout",
     "text": [
      "Did you mean: ['inn', 'Rai', 'Tainan']?\n"
     ]
    }
   ],
   "source": [
    "print(\"Did you mean: \" + str(close_match) + \"?\")\t"
   ]
  },
  {
   "cell_type": "code",
   "execution_count": 8,
   "metadata": {},
   "outputs": [
    {
     "output_type": "stream",
     "name": "stdout",
     "text": [
      "Did you mean: ['inn', 'Rai', 'Tainan']?Please type 'yes' or 'no' on the next line.\n"
     ]
    },
    {
     "output_type": "error",
     "ename": "SyntaxError",
     "evalue": "'return' outside function (2026379227.py, line 10)",
     "traceback": [
      "\u001b[0;36m  File \u001b[0;32m\"/var/folders/7k/j567vhn51g3bbz0kl0rzrb400000gn/T/ipykernel_26922/2026379227.py\"\u001b[0;36m, line \u001b[0;32m10\u001b[0m\n\u001b[0;31m    return \"Please enter a real word.\"\u001b[0m\n\u001b[0m    ^\u001b[0m\n\u001b[0;31mSyntaxError\u001b[0m\u001b[0;31m:\u001b[0m 'return' outside function\n"
     ]
    }
   ],
   "source": [
    "close_match = difflib.get_close_matches(word_input, data) # If word mistyped checked to see what they meant\n",
    "print(\"Did you mean: \" + str(close_match) + \"?\" + \"Please type 'yes' or 'no' on the next line.\")\n",
    "yes_or_no = input(\"Please enter yes or no: \")\n",
    "if yes_or_no == \"yes\":\n",
    "\tif len(close_match) == 1:\n",
    "\t\tdata[close_match]\n",
    "\telif len(close_match) > 1:\n",
    "\t\tword = input(\"Which word was it?\" + str(close_match))\n",
    "if yes_or_no == \"no\":\n",
    "\treturn \"Please enter a real word.\"\n",
    "\n"
   ]
  },
  {
   "cell_type": "code",
   "execution_count": 9,
   "metadata": {},
   "outputs": [
    {
     "output_type": "execute_result",
     "data": {
      "text/plain": [
       "list"
      ]
     },
     "metadata": {},
     "execution_count": 9
    }
   ],
   "source": [
    "type(close_match)"
   ]
  },
  {
   "cell_type": "code",
   "execution_count": 73,
   "metadata": {},
   "outputs": [
    {
     "output_type": "execute_result",
     "data": {
      "text/plain": [
       "\"['Expression of greeting used by two or more people who meet each other.']\""
      ]
     },
     "metadata": {},
     "execution_count": 73
    }
   ],
   "source": [
    "### Seeing how to remove brackets and quotations\n",
    "import string\n",
    "\n",
    "word = str(data['hello'])\n",
    "word"
   ]
  },
  {
   "cell_type": "code",
   "execution_count": 80,
   "metadata": {},
   "outputs": [],
   "source": [
    "word = word.replace(\"[\", \"\").replace(\"'\",'').replace(\"]\", \"\")"
   ]
  },
  {
   "cell_type": "code",
   "execution_count": 81,
   "metadata": {},
   "outputs": [
    {
     "output_type": "execute_result",
     "data": {
      "text/plain": [
       "'Expression of greeting used by two or more people who meet each other.'"
      ]
     },
     "metadata": {},
     "execution_count": 81
    }
   ],
   "source": [
    "word"
   ]
  },
  {
   "cell_type": "code",
   "execution_count": 84,
   "metadata": {},
   "outputs": [],
   "source": [
    "# see what the output of difflib close match is\n",
    "import difflib\n",
    "\n",
    "close_match = difflib.get_close_matches(\"hello\", data, cutoff= 0.75)"
   ]
  },
  {
   "cell_type": "code",
   "execution_count": 85,
   "metadata": {},
   "outputs": [
    {
     "output_type": "execute_result",
     "data": {
      "text/plain": [
       "list"
      ]
     },
     "metadata": {},
     "execution_count": 85
    }
   ],
   "source": [
    "type(close_match)"
   ]
  },
  {
   "cell_type": "code",
   "execution_count": 86,
   "metadata": {},
   "outputs": [
    {
     "output_type": "execute_result",
     "data": {
      "text/plain": [
       "\"['hello', 'hell', 'shell']\""
      ]
     },
     "metadata": {},
     "execution_count": 86
    }
   ],
   "source": [
    "str(close_match)"
   ]
  },
  {
   "cell_type": "code",
   "execution_count": null,
   "metadata": {},
   "outputs": [],
   "source": []
  }
 ]
}