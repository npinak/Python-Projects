{
  "nbformat": 4,
  "nbformat_minor": 0,
  "metadata": {
    "colab": {
      "name": "Section 3 Python Exercises.ipynb",
      "provenance": []
    },
    "kernelspec": {
      "name": "python3",
      "display_name": "Python 3"
    },
    "language_info": {
      "name": "python"
    }
  },
  "cells": [
    {
      "cell_type": "code",
      "metadata": {
        "id": "hjp1LcjI2vUK"
      },
      "source": [
        ""
      ],
      "execution_count": null,
      "outputs": []
    },
    {
      "cell_type": "code",
      "metadata": {
        "id": "BeEWJYtzeGkX",
        "colab": {
          "base_uri": "https://localhost:8080/"
        },
        "outputId": "e33acfb7-ba52-4e84-a5c9-db5d2bedcbc1"
      },
      "source": [
        "#1) Pythagorean Theorem Exercise a**2 + b**2 = c**2\n",
        "# get two number from the user which correspond to length a and b \n",
        "# then compute and print side c\n",
        "\n",
        "a = input( 'Gimme a numbah ')\n",
        "b = input( 'Gimme another numbah ')\n",
        "\n",
        "a = float(a)\n",
        "b = float (b)\n",
        "\n",
        "print ('Side C is ' + str((a**2 + b**2)**0.5))"
      ],
      "execution_count": null,
      "outputs": [
        {
          "output_type": "stream",
          "text": [
            "Gimme a numbah 1\n",
            "Gimme another numbah 2\n",
            "Side C is 2.23606797749979\n"
          ],
          "name": "stdout"
        }
      ]
    },
    {
      "cell_type": "code",
      "metadata": {
        "colab": {
          "base_uri": "https://localhost:8080/"
        },
        "id": "OtGY6V7r2359",
        "outputId": "9d9ca233-5eea-4dff-8172-2c1b87b51e8e"
      },
      "source": [
        "aList = [0,1,2,3,4,5]\n",
        "aList\n",
        "%whos\n"
      ],
      "execution_count": null,
      "outputs": [
        {
          "output_type": "stream",
          "text": [
            "Variable   Type     Data/Info\n",
            "-----------------------------\n",
            "a          float    1.0\n",
            "aList      list     n=6\n",
            "b          float    2.0\n"
          ],
          "name": "stdout"
        }
      ]
    },
    {
      "cell_type": "code",
      "metadata": {
        "colab": {
          "base_uri": "https://localhost:8080/"
        },
        "id": "gDasmAC57XvF",
        "outputId": "3e733b0f-a8a4-4e40-f233-4cead31145b9"
      },
      "source": [
        "#method - Functions for a list\n",
        "print (aList)\n",
        "aList.append(-100)\n",
        "print(aList)\n",
        "\n",
        "#sort\n",
        "\n",
        "aList.sort()\n",
        "print(aList)"
      ],
      "execution_count": null,
      "outputs": [
        {
          "output_type": "stream",
          "text": [
            "[-100, -100, -100, -100, 0, 1, 2, 3, 4, 5]\n",
            "[-100, -100, -100, -100, 0, 1, 2, 3, 4, 5, -100]\n",
            "[-100, -100, -100, -100, -100, 0, 1, 2, 3, 4, 5]\n"
          ],
          "name": "stdout"
        }
      ]
    },
    {
      "cell_type": "code",
      "metadata": {
        "colab": {
          "base_uri": "https://localhost:8080/"
        },
        "id": "UPdPoijN8PyP",
        "outputId": "6ce6510e-ee77-437a-dd24-ccad812fcda0"
      },
      "source": [
        "# 2)Exercise -  Create new list with many 7s and count the number of 7s in the list using the list method\n",
        "\n",
        "Sevens= [0,9,5,4,7,7,7,7,1,4,7,3,77,45]\n",
        "\n",
        "Sevens.count(7)"
      ],
      "execution_count": null,
      "outputs": [
        {
          "output_type": "execute_result",
          "data": {
            "text/plain": [
              "5"
            ]
          },
          "metadata": {
            "tags": []
          },
          "execution_count": 12
        }
      ]
    },
    {
      "cell_type": "code",
      "metadata": {
        "id": "ecjlCQ1G8Vtf"
      },
      "source": [
        "#tuples are immutable\n",
        "#lists are muttable"
      ],
      "execution_count": null,
      "outputs": []
    },
    {
      "cell_type": "code",
      "metadata": {
        "id": "-V7U_6hoCJv4"
      },
      "source": [
        "# 3) Exercise - Ask the user for pythagoran triplets, and test whether that's a real triplet. "
      ],
      "execution_count": null,
      "outputs": []
    }
  ]
}