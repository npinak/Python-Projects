{
  "nbformat": 4,
  "nbformat_minor": 0,
  "metadata": {
    "colab": {
      "name": "Law-of-Large-Numbers.ipynb",
      "provenance": [],
      "collapsed_sections": []
    },
    "kernelspec": {
      "name": "python3",
      "display_name": "Python 3"
    },
    "language_info": {
      "name": "python"
    }
  },
  "cells": [
    {
      "cell_type": "code",
      "metadata": {
        "colab": {
          "base_uri": "https://localhost:8080/"
        },
        "id": "jh9A77H51FFQ",
        "outputId": "68060dfc-0a39-4b54-f713-5e282576a3ec"
      },
      "source": [
        "# Create 230,000 random numbers in a 1/f distribution\n",
        "\n",
        "import matplotlib.pyplot as plt\n",
        "import numpy as np \n",
        "\n",
        "randint = np.logspace(np.log10(0.001),np.log10(100),230000)\n",
        "\n",
        "fdist = np.zeros(230000)\n",
        "\n",
        "for i in range(len(randint)):\n",
        "  fdist[i] = 1/randint[i]\n",
        "  if fdist[i]< 0:\n",
        "    print(fdist[i])\n",
        "\n",
        "fdist[:40]"
      ],
      "execution_count": 2,
      "outputs": [
        {
          "output_type": "execute_result",
          "data": {
            "text/plain": [
              "array([1000.        ,  999.94994484,  999.89989218,  999.84984203,\n",
              "        999.79979438,  999.74974924,  999.69970661,  999.64966647,\n",
              "        999.59962885,  999.54959373,  999.49956111,  999.449531  ,\n",
              "        999.39950339,  999.34947828,  999.29945568,  999.24943558,\n",
              "        999.19941799,  999.1494029 ,  999.09939032,  999.04938023,\n",
              "        998.99937266,  998.94936758,  998.89936501,  998.84936494,\n",
              "        998.79936737,  998.7493723 ,  998.69937974,  998.64938968,\n",
              "        998.59940213,  998.54941707,  998.49943452,  998.44945447,\n",
              "        998.39947692,  998.34950187,  998.29952932,  998.24955928,\n",
              "        998.19959173,  998.14962669,  998.09966415,  998.04970411])"
            ]
          },
          "metadata": {
            "tags": []
          },
          "execution_count": 2
        }
      ]
    },
    {
      "cell_type": "code",
      "metadata": {
        "colab": {
          "base_uri": "https://localhost:8080/"
        },
        "id": "FxS5HeUdknDR",
        "outputId": "c84516a6-a641-453c-a98a-5193935cdcdd"
      },
      "source": [
        "# Only take every 1000th entry in fdist\n",
        "fdist1000 = fdist[0::1000]\n",
        "\n",
        "fdist1000[:40]"
      ],
      "execution_count": 3,
      "outputs": [
        {
          "output_type": "execute_result",
          "data": {
            "text/plain": [
              "array([1000.        ,  951.17576211,  904.73533043,  860.56231743,\n",
              "        818.54601812,  778.58113261,  740.56750218,  704.40985828,\n",
              "        670.01758379,  637.30448589,  606.18858006,  576.59188462,\n",
              "        548.44022528,  521.66304926,  496.19324844,  471.96699124,\n",
              "        448.92356258,  427.00521177,  406.15700773,  386.32670137,\n",
              "        367.4645946 ,  349.52341581,  332.45820141,  316.2261831 ,\n",
              "        300.78668071,  286.10100026,  272.13233696,  258.845683  ,\n",
              "        246.2077398 ,  234.18683454,  222.75284082,  211.87710313,\n",
              "        201.53236504,  191.69270091,  182.33345088,  173.4311591 ,\n",
              "        164.96351493,  156.90929703,  149.24832019,  141.9613847 ])"
            ]
          },
          "metadata": {
            "tags": []
          },
          "execution_count": 3
        }
      ]
    },
    {
      "cell_type": "code",
      "metadata": {
        "colab": {
          "base_uri": "https://localhost:8080/"
        },
        "id": "jr-pS5fA5EYz",
        "outputId": "69bb3401-b5f8-4626-96ac-2f3d59acd2bb"
      },
      "source": [
        "#Sort the array in descending order\n",
        "fdist1000[::-1].sort()\n",
        "fdist1000[1]"
      ],
      "execution_count": 4,
      "outputs": [
        {
          "output_type": "execute_result",
          "data": {
            "text/plain": [
              "951.1757621112006"
            ]
          },
          "metadata": {
            "tags": []
          },
          "execution_count": 4
        }
      ]
    },
    {
      "cell_type": "code",
      "metadata": {
        "colab": {
          "base_uri": "https://localhost:8080/"
        },
        "id": "iO_YmgNEAXcT",
        "outputId": "a1b7883f-e0a1-49f7-858b-538ee98219fc"
      },
      "source": [
        "#Create index\n",
        "index = np.zeros(len(fdist1000))\n",
        "\n",
        "for i in range(len(fdist1000)):\n",
        "  index[i] = i+1\n",
        "\n",
        "index[:40]"
      ],
      "execution_count": 5,
      "outputs": [
        {
          "output_type": "execute_result",
          "data": {
            "text/plain": [
              "array([ 1.,  2.,  3.,  4.,  5.,  6.,  7.,  8.,  9., 10., 11., 12., 13.,\n",
              "       14., 15., 16., 17., 18., 19., 20., 21., 22., 23., 24., 25., 26.,\n",
              "       27., 28., 29., 30., 31., 32., 33., 34., 35., 36., 37., 38., 39.,\n",
              "       40.])"
            ]
          },
          "metadata": {
            "tags": []
          },
          "execution_count": 5
        }
      ]
    },
    {
      "cell_type": "code",
      "metadata": {
        "colab": {
          "base_uri": "https://localhost:8080/",
          "height": 279
        },
        "id": "2UasebnT4o_q",
        "outputId": "cf927596-aa6c-4933-a651-bd5057530520"
      },
      "source": [
        "# Graphing the random numbers \n",
        "\n",
        "plt.plot(index,fdist1000, 'go--')\n",
        "plt.xlabel('Sample')\n",
        "plt.ylabel('Data Value')\n",
        "plt.show()"
      ],
      "execution_count": 10,
      "outputs": [
        {
          "output_type": "display_data",
          "data": {
            "image/png": "[encoded data removed]",
            "text/plain": [
              "<Figure size 432x288 with 1 Axes>"
            ]
          },
          "metadata": {
            "tags": [],
            "needs_background": "light"
          }
        }
      ]
    },
    {
      "cell_type": "code",
      "metadata": {
        "colab": {
          "base_uri": "https://localhost:8080/",
          "height": 279
        },
        "id": "yeWtKXOcwQVc",
        "outputId": "e3aa538f-a12c-4361-f7a7-f6f649173e00"
      },
      "source": [
        "# Shuffle fdist1000\n",
        "\n",
        "shuffledist = fdist1000.copy()\n",
        "\n",
        "np.random.shuffle(shuffledist)\n",
        "\n",
        "plt.plot(index,shuffledist, 'go')\n",
        "plt.xlabel('Sample')\n",
        "plt.ylabel('Data Value')\n",
        "plt.show()"
      ],
      "execution_count": 14,
      "outputs": [
        {
          "output_type": "display_data",
          "data": {
            "image/png": "[encoded data removed]",
            "text/plain": [
              "<Figure size 432x288 with 1 Axes>"
            ]
          },
          "metadata": {
            "tags": [],
            "needs_background": "light"
          }
        }
      ]
    },
    {
      "cell_type": "code",
      "metadata": {
        "colab": {
          "base_uri": "https://localhost:8080/"
        },
        "id": "LcYAKbfY7ZnG",
        "outputId": "0f237040-48da-466c-c909-95096c90856b"
      },
      "source": [
        "# Randomly select 50 of the 230000 data points. Find the mean. Repeat this 500 times. \n",
        "# Basically do 500 iterations and find the average of each batch. \n",
        "\n",
        "mean = np.zeros(500)\n",
        "\n",
        "for i in range(len(mean)):\n",
        "  fifty  =  np.random.choice(fdist, size=50, replace=False)\n",
        "  mean[i] = sum(fifty)/50 \n",
        "\n",
        "mean[:100]\n"
      ],
      "execution_count": 21,
      "outputs": [
        {
          "output_type": "execute_result",
          "data": {
            "text/plain": [
              "array([ 60.16284524,  82.15523812,  92.40234558,  43.02992146,\n",
              "        95.08804067,  60.62295973,  48.41039497, 120.8379235 ,\n",
              "        91.1764155 ,  93.912219  , 129.93753117,  91.71484449,\n",
              "       112.46148832, 125.61978892,  85.5045678 ,  84.96545306,\n",
              "        72.43286883,  59.89617604,  76.39327977,  75.72288007,\n",
              "        82.26443966,  92.73018016, 105.67586484,  64.42037343,\n",
              "        75.91811341,  75.65448821,  47.50880605,  49.78344545,\n",
              "        59.34673874, 135.10427516, 159.93627565,  72.9158477 ,\n",
              "        55.7579016 , 124.73786724,  89.35314495,  84.25138934,\n",
              "       139.8350006 ,  90.50661956,  97.94009588,  59.67856866,\n",
              "        81.06001266, 109.29578274,  64.20546612,  40.30836368,\n",
              "        60.66418626, 127.37281218, 137.4655905 ,  85.36703514,\n",
              "        77.36551903,  71.9092988 ,  64.44424743,  67.96601326,\n",
              "        82.32004703,  88.72348434,  73.28109237,  91.11519784,\n",
              "        42.56917943,  60.54839056,  78.94869323,  76.56918528,\n",
              "        92.74174084,  48.89210904,  85.25583347,  51.2059778 ,\n",
              "        59.8024448 ,  71.80531697, 121.88426501,  63.63450523,\n",
              "        84.92146364,  42.73228439, 119.46510737,  65.91700833,\n",
              "       105.73217368, 128.50624001, 139.94859965,  63.58256507,\n",
              "        77.31513352, 103.93838832,  69.84257422,  65.50784028,\n",
              "       103.45342033, 127.91850796,  45.74988092,  96.38403602,\n",
              "        74.78969851, 118.07471583, 141.23071045,  74.89040074,\n",
              "       110.55216332,  84.658046  ,  53.09595649,  73.45627561,\n",
              "        58.9343226 ,  77.23876778,  79.49645692,  58.43269409,\n",
              "        67.20592722, 119.19053917, 113.98874059,  70.24392819])"
            ]
          },
          "metadata": {
            "tags": []
          },
          "execution_count": 21
        }
      ]
    },
    {
      "cell_type": "code",
      "metadata": {
        "colab": {
          "base_uri": "https://localhost:8080/"
        },
        "id": "OuX_FP14a3Mi",
        "outputId": "2a9c9586-f8b3-4b6f-f55b-4eea05e224f1"
      },
      "source": [
        "#Create index for mean \n",
        "\n",
        "meanindex = np.zeros(len(mean))\n",
        "\n",
        "for i in range(len(mean)):\n",
        "  meanindex[i] = i+1\n",
        "\n",
        "index[:40]"
      ],
      "execution_count": 26,
      "outputs": [
        {
          "output_type": "execute_result",
          "data": {
            "text/plain": [
              "array([ 1.,  2.,  3.,  4.,  5.,  6.,  7.,  8.,  9., 10., 11., 12., 13.,\n",
              "       14., 15., 16., 17., 18., 19., 20., 21., 22., 23., 24., 25., 26.,\n",
              "       27., 28., 29., 30., 31., 32., 33., 34., 35., 36., 37., 38., 39.,\n",
              "       40.])"
            ]
          },
          "metadata": {
            "tags": []
          },
          "execution_count": 26
        }
      ]
    },
    {
      "cell_type": "code",
      "metadata": {
        "colab": {
          "base_uri": "https://localhost:8080/"
        },
        "id": "vDkzT194bTd7",
        "outputId": "1c39fce4-01af-4db6-a393-0e0c94bd70ac"
      },
      "source": [
        "# Calculate real average \n",
        "\n",
        "realmean = sum(fdist)/len(fdist)\n",
        "\n",
        "print(realmean)"
      ],
      "execution_count": 30,
      "outputs": [
        {
          "output_type": "stream",
          "text": [
            "86.85982410100492\n"
          ],
          "name": "stdout"
        }
      ]
    },
    {
      "cell_type": "code",
      "metadata": {
        "colab": {
          "base_uri": "https://localhost:8080/",
          "height": 279
        },
        "id": "whYcCsabZsCg",
        "outputId": "ac02b657-07bb-4257-9b60-60eef085f554"
      },
      "source": [
        "# Plot Monte-Carlo sampling \n",
        "\n",
        "plt.plot(meanindex,mean, 'go', label = 'Sample Means')\n",
        "plt.axhline(y=realmean, color='r', linestyle='-', label = 'True Mean')\n",
        "plt.xlabel('Sample Number')\n",
        "plt.ylabel('Mean Value')\n",
        "plt.legend()\n",
        "plt.show()"
      ],
      "execution_count": 42,
      "outputs": [
        {
          "output_type": "display_data",
          "data": {
            "image/png": "[encoded data removed]",
            "text/plain": [
              "<Figure size 432x288 with 1 Axes>"
            ]
          },
          "metadata": {
            "tags": [],
            "needs_background": "light"
          }
        }
      ]
    }
  ]
}