{
 "metadata": {
  "language_info": {
   "codemirror_mode": {
    "name": "ipython",
    "version": 3
   },
   "file_extension": ".py",
   "mimetype": "text/x-python",
   "name": "python",
   "nbconvert_exporter": "python",
   "pygments_lexer": "ipython3",
   "version": "3.9.6"
  },
  "orig_nbformat": 4,
  "kernelspec": {
   "name": "python3",
   "display_name": "Python 3.9.6 64-bit"
  },
  "interpreter": {
   "hash": "aee8b7b246df8f9039afb4144a1f6fd8d2ca17a180786b69acc140d282b71a49"
  }
 },
 "nbformat": 4,
 "nbformat_minor": 2,
 "cells": [
  {
   "cell_type": "code",
   "execution_count": 3,
   "metadata": {},
   "outputs": [],
   "source": [
    "import folium\n",
    "import pandas as pd\n",
    "\n"
   ]
  },
  {
   "cell_type": "code",
   "execution_count": 4,
   "metadata": {},
   "outputs": [],
   "source": [
    "## Adding multiple locations using a for-loop\n",
    "\n",
    "data = pd.read_csv(\"/Users/pinaknayak/Documents/Github/Python-Projects/Web-Map_Volcanoes/Webmap_datasources/Volcanoes.txt\") \n",
    "\n"
   ]
  },
  {
   "cell_type": "code",
   "execution_count": 19,
   "metadata": {},
   "outputs": [
    {
     "output_type": "execute_result",
     "data": {
      "text/plain": [
       "   VOLCANX020    NUMBER   NAME       LOCATION      STATUS    ELEV  \\\n",
       "0       509.0  1201-01=  Baker  US-Washington  Historical  3285.0   \n",
       "\n",
       "              TYPE TIMEFRAME        LAT         LON  \n",
       "0  Stratovolcanoes        D3  48.776798 -121.810997  "
      ],
      "text/html": "<div>\n<style scoped>\n    .dataframe tbody tr th:only-of-type {\n        vertical-align: middle;\n    }\n\n    .dataframe tbody tr th {\n        vertical-align: top;\n    }\n\n    .dataframe thead th {\n        text-align: right;\n    }\n</style>\n<table border=\"1\" class=\"dataframe\">\n  <thead>\n    <tr style=\"text-align: right;\">\n      <th></th>\n      <th>VOLCANX020</th>\n      <th>NUMBER</th>\n      <th>NAME</th>\n      <th>LOCATION</th>\n      <th>STATUS</th>\n      <th>ELEV</th>\n      <th>TYPE</th>\n      <th>TIMEFRAME</th>\n      <th>LAT</th>\n      <th>LON</th>\n    </tr>\n  </thead>\n  <tbody>\n    <tr>\n      <th>0</th>\n      <td>509.0</td>\n      <td>1201-01=</td>\n      <td>Baker</td>\n      <td>US-Washington</td>\n      <td>Historical</td>\n      <td>3285.0</td>\n      <td>Stratovolcanoes</td>\n      <td>D3</td>\n      <td>48.776798</td>\n      <td>-121.810997</td>\n    </tr>\n  </tbody>\n</table>\n</div>"
     },
     "metadata": {},
     "execution_count": 19
    }
   ],
   "source": [
    "data[:1]"
   ]
  },
  {
   "cell_type": "code",
   "execution_count": 38,
   "metadata": {},
   "outputs": [],
   "source": []
  },
  {
   "cell_type": "code",
   "execution_count": 43,
   "metadata": {},
   "outputs": [],
   "source": [
    "map = folium.Map(location = [38.58,-99.09], zoom_start=6, tiles = \"Stamen Terrain\")\n",
    "\n",
    "# Can add multiple features to a feature group \n",
    "fg = folium.FeatureGroup(name = \"My Map\") \n",
    "\n",
    "# Adding markers\n",
    "for lt, ln in zip(lat,lon):\n",
    "    map.add_child(folium.Marker(location = [lt,ln], popup=\"Hi I am a marker\", icon =folium.Icon('green'))) \n",
    "    map.add_child(fg)\n",
    "\n",
    "map.save(\"Map1.html\")"
   ]
  },
  {
   "cell_type": "code",
   "execution_count": null,
   "metadata": {},
   "outputs": [],
   "source": []
  }
 ]
}